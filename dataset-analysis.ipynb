{
 "cells": [
  {
   "cell_type": "code",
   "execution_count": 1,
   "id": "d69086e9",
   "metadata": {
    "execution": {
     "iopub.execute_input": "2022-11-07T01:00:21.170925Z",
     "iopub.status.busy": "2022-11-07T01:00:21.170493Z",
     "iopub.status.idle": "2022-11-07T01:00:21.220004Z",
     "shell.execute_reply": "2022-11-07T01:00:21.218554Z"
    },
    "id": "-PrYIiE7VQ4t",
    "papermill": {
     "duration": 0.062224,
     "end_time": "2022-11-07T01:00:21.222721",
     "exception": false,
     "start_time": "2022-11-07T01:00:21.160497",
     "status": "completed"
    },
    "tags": []
   },
   "outputs": [],
   "source": [
    "import pandas as pd\n",
    "org_df = pd.read_csv(\"/kaggle/input/ghouls-goblins-and-ghosts-boo/train.csv.zip\")\n",
    "\n",
    "df = org_df\n",
    "y_df = df[['type']]\n",
    "df = df.drop(labels=['type'],axis=1)\n",
    "x_df = df\n",
    "\n",
    "t_df = pd.read_csv(\"/kaggle/input/ghouls-goblins-and-ghosts-boo/test.csv.zip\")\n",
    "df.shape,t_df.shape\n",
    "df = df.drop(labels=['id'],axis=1)"
   ]
  },
  {
   "cell_type": "code",
   "execution_count": 2,
   "id": "d8fd6329",
   "metadata": {
    "execution": {
     "iopub.execute_input": "2022-11-07T01:00:21.240430Z",
     "iopub.status.busy": "2022-11-07T01:00:21.239641Z",
     "iopub.status.idle": "2022-11-07T01:00:21.262377Z",
     "shell.execute_reply": "2022-11-07T01:00:21.261007Z"
    },
    "id": "vQTork4AVitf",
    "outputId": "94463774-42d6-416a-e7bc-1beba5711725",
    "papermill": {
     "duration": 0.033706,
     "end_time": "2022-11-07T01:00:21.264333",
     "exception": false,
     "start_time": "2022-11-07T01:00:21.230627",
     "status": "completed"
    },
    "tags": []
   },
   "outputs": [
    {
     "data": {
      "text/html": [
       "<div>\n",
       "<style scoped>\n",
       "    .dataframe tbody tr th:only-of-type {\n",
       "        vertical-align: middle;\n",
       "    }\n",
       "\n",
       "    .dataframe tbody tr th {\n",
       "        vertical-align: top;\n",
       "    }\n",
       "\n",
       "    .dataframe thead th {\n",
       "        text-align: right;\n",
       "    }\n",
       "</style>\n",
       "<table border=\"1\" class=\"dataframe\">\n",
       "  <thead>\n",
       "    <tr style=\"text-align: right;\">\n",
       "      <th></th>\n",
       "      <th>bone_length</th>\n",
       "      <th>rotting_flesh</th>\n",
       "      <th>hair_length</th>\n",
       "      <th>has_soul</th>\n",
       "      <th>color</th>\n",
       "    </tr>\n",
       "  </thead>\n",
       "  <tbody>\n",
       "    <tr>\n",
       "      <th>83</th>\n",
       "      <td>0.485802</td>\n",
       "      <td>0.571908</td>\n",
       "      <td>0.656528</td>\n",
       "      <td>0.465085</td>\n",
       "      <td>black</td>\n",
       "    </tr>\n",
       "    <tr>\n",
       "      <th>122</th>\n",
       "      <td>0.572494</td>\n",
       "      <td>0.516335</td>\n",
       "      <td>0.463063</td>\n",
       "      <td>0.291004</td>\n",
       "      <td>white</td>\n",
       "    </tr>\n",
       "  </tbody>\n",
       "</table>\n",
       "</div>"
      ],
      "text/plain": [
       "     bone_length  rotting_flesh  hair_length  has_soul  color\n",
       "83      0.485802       0.571908     0.656528  0.465085  black\n",
       "122     0.572494       0.516335     0.463063  0.291004  white"
      ]
     },
     "execution_count": 2,
     "metadata": {},
     "output_type": "execute_result"
    }
   ],
   "source": [
    "df.sample(2)"
   ]
  },
  {
   "cell_type": "markdown",
   "id": "74f354e4",
   "metadata": {
    "papermill": {
     "duration": 0.007485,
     "end_time": "2022-11-07T01:00:21.279620",
     "exception": false,
     "start_time": "2022-11-07T01:00:21.272135",
     "status": "completed"
    },
    "tags": []
   },
   "source": [
    "# **Checking for empty values**"
   ]
  },
  {
   "cell_type": "code",
   "execution_count": 3,
   "id": "97c403ac",
   "metadata": {
    "execution": {
     "iopub.execute_input": "2022-11-07T01:00:21.296993Z",
     "iopub.status.busy": "2022-11-07T01:00:21.296596Z",
     "iopub.status.idle": "2022-11-07T01:00:22.758845Z",
     "shell.execute_reply": "2022-11-07T01:00:22.757259Z"
    },
    "id": "FNk8SobCVvjL",
    "outputId": "46b3c285-f219-4fc3-bfc2-17bc546c0933",
    "papermill": {
     "duration": 1.474252,
     "end_time": "2022-11-07T01:00:22.761911",
     "exception": false,
     "start_time": "2022-11-07T01:00:21.287659",
     "status": "completed"
    },
    "tags": []
   },
   "outputs": [
    {
     "data": {
      "text/plain": [
       "<AxesSubplot:>"
      ]
     },
     "execution_count": 3,
     "metadata": {},
     "output_type": "execute_result"
    },
    {
     "data": {
      "image/png": "[encoded data removed]",
      "text/plain": [
       "<Figure size 432x288 with 2 Axes>"
      ]
     },
     "metadata": {
      "needs_background": "light"
     },
     "output_type": "display_data"
    }
   ],
   "source": [
    "import seaborn as sns\n",
    "\n",
    "sns.heatmap(org_df.isna())"
   ]
  },
  {
   "cell_type": "markdown",
   "id": "bafdf554",
   "metadata": {
    "papermill": {
     "duration": 0.008118,
     "end_time": "2022-11-07T01:00:22.778486",
     "exception": false,
     "start_time": "2022-11-07T01:00:22.770368",
     "status": "completed"
    },
    "tags": []
   },
   "source": [
    "# **Checking creatures types distribution**"
   ]
  },
  {
   "cell_type": "code",
   "execution_count": 4,
   "id": "d70b7722",
   "metadata": {
    "execution": {
     "iopub.execute_input": "2022-11-07T01:00:22.798042Z",
     "iopub.status.busy": "2022-11-07T01:00:22.797583Z",
     "iopub.status.idle": "2022-11-07T01:00:22.957720Z",
     "shell.execute_reply": "2022-11-07T01:00:22.956846Z"
    },
    "id": "hk3-uUZ_V0hq",
    "outputId": "bc04df1f-0641-425b-d8d7-38244124f838",
    "papermill": {
     "duration": 0.173513,
     "end_time": "2022-11-07T01:00:22.961656",
     "exception": false,
     "start_time": "2022-11-07T01:00:22.788143",
     "status": "completed"
    },
    "tags": []
   },
   "outputs": [
    {
     "data": {
      "text/plain": [
       "<AxesSubplot:>"
      ]
     },
     "execution_count": 4,
     "metadata": {},
     "output_type": "execute_result"
    },
    {
     "data": {
      "image/png": "[encoded data removed]",
      "text/plain": [
       "<Figure size 432x288 with 1 Axes>"
      ]
     },
     "metadata": {
      "needs_background": "light"
     },
     "output_type": "display_data"
    }
   ],
   "source": [
    "y_df['type'].hist()"
   ]
  },
  {
   "cell_type": "markdown",
   "id": "57fee2f1",
   "metadata": {
    "papermill": {
     "duration": 0.009614,
     "end_time": "2022-11-07T01:00:22.982586",
     "exception": false,
     "start_time": "2022-11-07T01:00:22.972972",
     "status": "completed"
    },
    "tags": []
   },
   "source": [
    "# **Scatter Plot**"
   ]
  },
  {
   "cell_type": "code",
   "execution_count": 5,
   "id": "b1e79fc5",
   "metadata": {
    "execution": {
     "iopub.execute_input": "2022-11-07T01:00:23.004124Z",
     "iopub.status.busy": "2022-11-07T01:00:23.003674Z",
     "iopub.status.idle": "2022-11-07T01:00:25.707653Z",
     "shell.execute_reply": "2022-11-07T01:00:25.706069Z"
    },
    "id": "3arI3pWUV7mL",
    "outputId": "6b8b481c-4921-44e8-f9a8-6a2d43a01e96",
    "papermill": {
     "duration": 2.718439,
     "end_time": "2022-11-07T01:00:25.710534",
     "exception": false,
     "start_time": "2022-11-07T01:00:22.992095",
     "status": "completed"
    },
    "tags": []
   },
   "outputs": [
    {
     "data": {
      "text/html": [
       "        <script type=\"text/javascript\">\n",
       "        window.PlotlyConfig = {MathJaxConfig: 'local'};\n",
       "        if (window.MathJax && window.MathJax.Hub && window.MathJax.Hub.Config) {window.MathJax.Hub.Config({SVG: {font: \"STIX-Web\"}});}\n",
       "        if (typeof require !== 'undefined') {\n",
       "        require.undef(\"plotly\");\n",
       "        requirejs.config({\n",
       "            paths: {\n",
       "                'plotly': ['https://cdn.plot.ly/plotly-2.14.0.min']\n",
       "            }\n",
       "        });\n",
       "        require(['plotly'], function(Plotly) {\n",
       "            window._Plotly = Plotly;\n",
       "        });\n",
       "        }\n",
       "        </script>\n",
       "        "
      ]
     },
     "metadata": {},
     "output_type": "display_data"
    },
    {
     "data": {
      "text/html": [
       "<div>                            <div id=\"79a85d66-fe4c-4cdb-be14-7ca83c0192db\" class=\"plotly-graph-div\" style=\"height:525px; width:100%;\"></div>            <script type=\"text/javascript\">                require([\"plotly\"], function(Plotly) {                    window.PLOTLYENV=window.PLOTLYENV || {};                                    if (document.getElementById(\"79a85d66-fe4c-4cdb-be14-7ca83c0192db\")) {                    Plotly.newPlot(                        \"79a85d66-fe4c-4cdb-be14-7ca83c0192db\",                        [{\"hovertemplate\":\"type=%{x}<br>bone_length=%{y}<extra></extra>\",\"legendgroup\":\"Ghoul\",\"marker\":{\"color\":\"#636efa\",\"symbol\":\"circle\"},\"mode\":\"markers\",\"name\":\"Ghoul\",\"orientation\":\"v\",\"showlegend\":true,\"x\":[\"Ghoul\",\"Ghoul\",\"Ghoul\",\"Ghoul\",\"Ghoul\",\"Ghoul\",\"Ghoul\",\"Ghoul\",\"Ghoul\",\"Ghoul\",\"Ghoul\",\"Ghoul\",\"Ghoul\",\"Ghoul\",\"Ghoul\",\"Ghoul\",\"Ghoul\",\"Ghoul\",\"Ghoul\",\"Ghoul\",\"Ghoul\",\"Ghoul\",\"Ghoul\",\"Ghoul\",\"Ghoul\",\"Ghoul\",\"Ghoul\",\"Ghoul\",\"Ghoul\",\"Ghoul\",\"Ghoul\",\"Ghoul\",\"Ghoul\",\"Ghoul\",\"Ghoul\",\"Ghoul\",\"Ghoul\",\"Ghoul\",\"Ghoul\",\"Ghoul\",\"Ghoul\",\"Ghoul\",\"Ghoul\",\"Ghoul\",\"Ghoul\",\"Ghoul\",\"Ghoul\",\"Ghoul\",\"Ghoul\",\"Ghoul\",\"Ghoul\",\"Ghoul\",\"Ghoul\",\"Ghoul\",\"Ghoul\",\"Ghoul\",\"Ghoul\",\"Ghoul\",\"Ghoul\",\"Ghoul\",\"Ghoul\",\"Ghoul\",\"Ghoul\",\"Ghoul\",\"Ghoul\",\"Ghoul\",\"Ghoul\",\"Ghoul\",\"Ghoul\",\"Ghoul\",\"Ghoul\",\"Ghoul\",\"Ghoul\",\"Ghoul\",\"Ghoul\",\"Ghoul\",\"Ghoul\",\"Ghoul\",\"Ghoul\",\"Ghoul\",\"Ghoul\",\"Ghoul\",\"Ghoul\",\"Ghoul\",\"Ghoul\",\"Ghoul\",\"Ghoul\",\"Ghoul\",\"Ghoul\",\"Ghoul\",\"Ghoul\",\"Ghoul\",\"Ghoul\",\"Ghoul\",\"Ghoul\",\"Ghoul\",\"Ghoul\",\"Ghoul\",\"Ghoul\",\"Ghoul\",\"Ghoul\",\"Ghoul\",\"Ghoul\",\"Ghoul\",\"Ghoul\",\"Ghoul\",\"Ghoul\",\"Ghoul\",\"Ghoul\",\"Ghoul\",\"Ghoul\",\"Ghoul\",\"Ghoul\",\"Ghoul\",\"Ghoul\",\"Ghoul\",\"Ghoul\",\"Ghoul\",\"Ghoul\",\"Ghoul\",\"Ghoul\",\"Ghoul\",\"Ghoul\",\"Ghoul\",\"Ghoul\",\"Ghoul\",\"Ghoul\",\"Ghoul\",\"Ghoul\"],\"xaxis\":\"x\",\"y\":[0.3545121845821541,0.467875498742323,0.776652460655474,0.5162238981116547,0.584543226402469,0.3907121285960714,0.5001965520236578,0.5855593168709793,0.6058359561481175,0.4726032938231003,0.3433496058239474,0.6872555002914946,0.6729770643554356,0.5581960768300526,0.6363467701119719,0.5642817569821001,0.4151096964698842,0.3141428773386546,0.4817163588057449,0.5716187693902656,0.4954670559912866,0.5126766858793707,0.7535051395445669,0.6654319716727949,0.6441755544149369,0.2275320914606136,0.3152760326328197,0.5102421707697722,0.5861772994209699,0.6313272032845839,0.501305752172094,0.5147166050287932,0.521779901441308,0.6008978671842379,0.3508380816775922,0.4406963474555094,0.4507593196196853,0.4967339773850895,0.5325901084246948,0.587570659847358,0.4720591455885397,0.4440092595626775,0.3513153022774596,0.4349977494520962,0.6091606601249137,0.6671816209592498,0.5841766673316365,0.4161517532856235,0.5349876694608388,0.6694190901475464,0.5598250745457363,0.6304705900407669,0.8170014327207992,0.5408063266621841,0.4896277054256568,0.5107041762420627,0.5655213379202007,0.3087546910594997,0.6816150258023715,0.3674193755313768,0.7308481259008561,0.5664239021619079,0.2966045215824983,0.42172073418984,0.3571453629923807,0.523832930184412,0.322303941310501,0.5055970065854175,0.489446322959167,0.4311850258585969,0.5182308394104409,0.5159845568291059,0.6277343663920077,0.6148994038783354,0.5244103827541664,0.3345520956409246,0.5237886449947281,0.6544882647955068,0.4996096456060792,0.4827161837683349,0.2007525650933715,0.7552975085362733,0.4308013866548665,0.5884133649804179,0.5862265848381086,0.5153971790364432,0.6133645269466709,0.5299845645400029,0.5903836895047814,0.4068335382007837,0.7613554112947414,0.4798184400763809,0.4624895790300461,0.4933947548278907,0.2323006781078838,0.4768916238529865,0.3582398592403725,0.6305854122728537,0.6870798464680745,0.7571377380956645,0.5400876338610013,0.5340006619939253,0.5212368917903017,0.5285356140406823,0.3870112735401417,0.6005569017635347,0.4219335411095097,0.4177761432660903,0.4223219616418998,0.6495590309746747,0.5710561840298457,0.5411810684466748,0.5160036963323632,0.3834889715343975,0.5115925357978953,0.3201754063428098,0.4396245808903376,0.4886321866874934,0.6266145629030311,0.7129132189757785,0.5025990844061363,0.4961396808820898,0.4348911277684966,0.6260168005606022,0.4677850248522497,0.5010218791127545,0.4060617791475717,0.4816397309789108,0.6701995355809963],\"yaxis\":\"y\",\"type\":\"scatter\"},{\"hovertemplate\":\"type=%{x}<br>bone_length=%{y}<extra></extra>\",\"legendgroup\":\"Goblin\",\"marker\":{\"color\":\"#EF553B\",\"symbol\":\"circle\"},\"mode\":\"markers\",\"name\":\"Goblin\",\"orientation\":\"v\",\"showlegend\":true,\"x\":[\"Goblin\",\"Goblin\",\"Goblin\",\"Goblin\",\"Goblin\",\"Goblin\",\"Goblin\",\"Goblin\",\"Goblin\",\"Goblin\",\"Goblin\",\"Goblin\",\"Goblin\",\"Goblin\",\"Goblin\",\"Goblin\",\"Goblin\",\"Goblin\",\"Goblin\",\"Goblin\",\"Goblin\",\"Goblin\",\"Goblin\",\"Goblin\",\"Goblin\",\"Goblin\",\"Goblin\",\"Goblin\",\"Goblin\",\"Goblin\",\"Goblin\",\"Goblin\",\"Goblin\",\"Goblin\",\"Goblin\",\"Goblin\",\"Goblin\",\"Goblin\",\"Goblin\",\"Goblin\",\"Goblin\",\"Goblin\",\"Goblin\",\"Goblin\",\"Goblin\",\"Goblin\",\"Goblin\",\"Goblin\",\"Goblin\",\"Goblin\",\"Goblin\",\"Goblin\",\"Goblin\",\"Goblin\",\"Goblin\",\"Goblin\",\"Goblin\",\"Goblin\",\"Goblin\",\"Goblin\",\"Goblin\",\"Goblin\",\"Goblin\",\"Goblin\",\"Goblin\",\"Goblin\",\"Goblin\",\"Goblin\",\"Goblin\",\"Goblin\",\"Goblin\",\"Goblin\",\"Goblin\",\"Goblin\",\"Goblin\",\"Goblin\",\"Goblin\",\"Goblin\",\"Goblin\",\"Goblin\",\"Goblin\",\"Goblin\",\"Goblin\",\"Goblin\",\"Goblin\",\"Goblin\",\"Goblin\",\"Goblin\",\"Goblin\",\"Goblin\",\"Goblin\",\"Goblin\",\"Goblin\",\"Goblin\",\"Goblin\",\"Goblin\",\"Goblin\",\"Goblin\",\"Goblin\",\"Goblin\",\"Goblin\",\"Goblin\",\"Goblin\",\"Goblin\",\"Goblin\",\"Goblin\",\"Goblin\",\"Goblin\",\"Goblin\",\"Goblin\",\"Goblin\",\"Goblin\",\"Goblin\",\"Goblin\",\"Goblin\",\"Goblin\",\"Goblin\",\"Goblin\",\"Goblin\",\"Goblin\",\"Goblin\",\"Goblin\",\"Goblin\",\"Goblin\",\"Goblin\"],\"xaxis\":\"x\",\"y\":[0.5755599050254655,0.405679744891883,0.399330850860438,0.4316852133394812,0.3515586720944532,0.5133872213931538,0.503164057832666,0.374448573799757,0.3885005478963415,0.4924381032273604,0.4116626945454133,0.3041977859670044,0.5545095992350249,0.5237285619471904,0.3849579750034331,0.2871931864179819,0.3628871069153425,0.2952291420624456,0.6276523661689718,0.6785187395803213,0.5152749837361404,0.622413651059006,0.2086251737392714,0.4909877679338796,0.4808360007818567,0.4983363846536767,0.485801814781045,0.3440868558121701,0.4645909855146808,0.3788110345115076,0.6194680108100487,0.5803025204175463,0.3654367072896388,0.4315007990246001,0.3059428946213542,0.252512821690625,0.4527408048904949,0.440854689448784,0.4767300230361486,0.4891323934260234,0.4538691895009534,0.2734580108777351,0.3395008141245191,0.5053752538799586,0.3877299926209585,0.6178324098326736,0.3583113280000451,0.3247693380948151,0.2971478482685644,0.3515617488056713,0.379547939481265,0.3842352341392903,0.3692739347589883,0.4244927698345165,0.5289868407342713,0.5277621870564683,0.329668208763034,0.4068796467950714,0.3899276800513611,0.2527332023614684,0.476768596926305,0.4307970001287445,0.4973169405876106,0.4460409758551139,0.5949939542985202,0.4532135030785801,0.5715019843857816,0.4984383302504508,0.47120115455526,0.4654233249019935,0.5254848998177738,0.5176317289678591,0.6221239910511766,0.3962978552150852,0.2279477968345748,0.4390632860190493,0.4036187136141595,0.4690199209184322,0.2850220936317743,0.2502931550286889,0.339569098440343,0.5241379236461077,0.2750211376626579,0.2844510413025236,0.3365734156264305,0.4510851028671813,0.3045185925967165,0.5871421359150822,0.4272175448421107,0.4763200416135701,0.20999665083892,0.5144303430623148,0.3810575128864099,0.491709701562399,0.4037272159825862,0.423953236847586,0.3550870183601146,0.4165771994283703,0.4764660777291431,0.4688407188928862,0.4409981585862939,0.3714221256048394,0.5778091112204605,0.3378043185749406,0.444005602311103,0.3225103262790144,0.4173001058933074,0.4839050876561649,0.5546624268278099,0.3425846004517803,0.4135764428639238,0.664432457376306,0.3777560832044784,0.3203642312313993,0.3238053473389625,0.6243882723635749,0.3462834483038663,0.3553127174590911,0.5529714816656802,0.3625668270307094,0.4401325118247183,0.4455471177513875,0.3774494817091187,0.4867440133136787,0.4581318644795705],\"yaxis\":\"y\",\"type\":\"scatter\"},{\"hovertemplate\":\"type=%{x}<br>bone_length=%{y}<extra></extra>\",\"legendgroup\":\"Ghost\",\"marker\":{\"color\":\"#00cc96\",\"symbol\":\"circle\"},\"mode\":\"markers\",\"name\":\"Ghost\",\"orientation\":\"v\",\"showlegend\":true,\"x\":[\"Ghost\",\"Ghost\",\"Ghost\",\"Ghost\",\"Ghost\",\"Ghost\",\"Ghost\",\"Ghost\",\"Ghost\",\"Ghost\",\"Ghost\",\"Ghost\",\"Ghost\",\"Ghost\",\"Ghost\",\"Ghost\",\"Ghost\",\"Ghost\",\"Ghost\",\"Ghost\",\"Ghost\",\"Ghost\",\"Ghost\",\"Ghost\",\"Ghost\",\"Ghost\",\"Ghost\",\"Ghost\",\"Ghost\",\"Ghost\",\"Ghost\",\"Ghost\",\"Ghost\",\"Ghost\",\"Ghost\",\"Ghost\",\"Ghost\",\"Ghost\",\"Ghost\",\"Ghost\",\"Ghost\",\"Ghost\",\"Ghost\",\"Ghost\",\"Ghost\",\"Ghost\",\"Ghost\",\"Ghost\",\"Ghost\",\"Ghost\",\"Ghost\",\"Ghost\",\"Ghost\",\"Ghost\",\"Ghost\",\"Ghost\",\"Ghost\",\"Ghost\",\"Ghost\",\"Ghost\",\"Ghost\",\"Ghost\",\"Ghost\",\"Ghost\",\"Ghost\",\"Ghost\",\"Ghost\",\"Ghost\",\"Ghost\",\"Ghost\",\"Ghost\",\"Ghost\",\"Ghost\",\"Ghost\",\"Ghost\",\"Ghost\",\"Ghost\",\"Ghost\",\"Ghost\",\"Ghost\",\"Ghost\",\"Ghost\",\"Ghost\",\"Ghost\",\"Ghost\",\"Ghost\",\"Ghost\",\"Ghost\",\"Ghost\",\"Ghost\",\"Ghost\",\"Ghost\",\"Ghost\",\"Ghost\",\"Ghost\",\"Ghost\",\"Ghost\",\"Ghost\",\"Ghost\",\"Ghost\",\"Ghost\",\"Ghost\",\"Ghost\",\"Ghost\",\"Ghost\",\"Ghost\",\"Ghost\",\"Ghost\",\"Ghost\",\"Ghost\",\"Ghost\",\"Ghost\",\"Ghost\",\"Ghost\",\"Ghost\",\"Ghost\",\"Ghost\"],\"xaxis\":\"x\",\"y\":[0.56611660205779,0.3142952759201916,0.2809417440979105,0.2507699997704333,0.5240803802397399,0.2290099048694253,0.4650939478113308,0.4563710403972941,0.3949581951173462,0.2880500976676626,0.4569351560214406,0.5342663533189846,0.268141288100927,0.4451317166643472,0.397258025900726,0.3043015261984808,0.5042364852535262,0.6096342602281953,0.424968992569728,0.3114182158972507,0.3907691600665572,0.3489914240082382,0.2370457471214508,0.5185598890791936,0.4869701692454384,0.5168138020971651,0.3751966948379099,0.1970706602286833,0.3415388791939475,0.3135062136463118,0.4717644966252061,0.2078738482492294,0.318316195910614,0.5198274000967964,0.2987971154664525,0.3179382931526625,0.4809411831883035,0.365032200646103,0.2955754351347911,0.5724939664603133,0.3733050871065359,0.4113532318763664,0.5981661180958543,0.3033905089671853,0.3262947716331351,0.4212165789711813,0.3329053684891241,0.2918155291243502,0.3215295334810629,0.2505228367580467,0.1929085720034292,0.306695276031629,0.4039945561609049,0.2247975441428196,0.4811412516657063,0.327031355299676,0.0610318174675915,0.1450707636810195,0.1009445515509307,0.3404421097879367,0.3060435284045266,0.5072903108860567,0.2088849510078684,0.2717349813738951,0.4521262527231393,0.2488544511921411,0.3998389632819645,0.4151419193496131,0.2725232044172437,0.3283443266222831,0.4082384968547247,0.3104620322934717,0.3901449022726327,0.1689085003938734,0.4753163597993992,0.3677989588298081,0.323612623781796,0.3910359826248366,0.3648165456131974,0.1841809742741317,0.2697484182873138,0.1604646938640709,0.2519320634011813,0.4044237905739608,0.3955756940744827,0.3852189472708037,0.5022290294565924,0.6223714683898102,0.5037801049216418,0.3741484261114667,0.1841718479053877,0.3906694290697766,0.2464147577793823,0.1843826774241877,0.3321342791974178,0.4057030619281113,0.4172527547569121,0.1677984879168454,0.5005233083711402,0.3540466893295677,0.1736069506984055,0.1946549336962759,0.1877805300065898,0.2172482574004319,0.3969883320489408,0.3618667061171297,0.168644469580262,0.376472952085311,0.2798745118127758,0.1651963889117372,0.3323744700041184,0.2030734301142651,0.3569985378992515,0.4404317315532128,0.5075829141004433,0.3319360874530467,0.2949429482572135],\"yaxis\":\"y\",\"type\":\"scatter\"}],                        {\"template\":{\"data\":{\"histogram2dcontour\":[{\"type\":\"histogram2dcontour\",\"colorbar\":{\"outlinewidth\":0,\"ticks\":\"\"},\"colorscale\":[[0.0,\"#0d0887\"],[0.1111111111111111,\"#46039f\"],[0.2222222222222222,\"#7201a8\"],[0.3333333333333333,\"#9c179e\"],[0.4444444444444444,\"#bd3786\"],[0.5555555555555556,\"#d8576b\"],[0.6666666666666666,\"#ed7953\"],[0.7777777777777778,\"#fb9f3a\"],[0.8888888888888888,\"#fdca26\"],[1.0,\"#f0f921\"]]}],\"choropleth\":[{\"type\":\"choropleth\",\"colorbar\":{\"outlinewidth\":0,\"ticks\":\"\"}}],\"histogram2d\":[{\"type\":\"histogram2d\",\"colorbar\":{\"outlinewidth\":0,\"ticks\":\"\"},\"colorscale\":[[0.0,\"#0d0887\"],[0.1111111111111111,\"#46039f\"],[0.2222222222222222,\"#7201a8\"],[0.3333333333333333,\"#9c179e\"],[0.4444444444444444,\"#bd3786\"],[0.5555555555555556,\"#d8576b\"],[0.6666666666666666,\"#ed7953\"],[0.7777777777777778,\"#fb9f3a\"],[0.8888888888888888,\"#fdca26\"],[1.0,\"#f0f921\"]]}],\"heatmap\":[{\"type\":\"heatmap\",\"colorbar\":{\"outlinewidth\":0,\"ticks\":\"\"},\"colorscale\":[[0.0,\"#0d0887\"],[0.1111111111111111,\"#46039f\"],[0.2222222222222222,\"#7201a8\"],[0.3333333333333333,\"#9c179e\"],[0.4444444444444444,\"#bd3786\"],[0.5555555555555556,\"#d8576b\"],[0.6666666666666666,\"#ed7953\"],[0.7777777777777778,\"#fb9f3a\"],[0.8888888888888888,\"#fdca26\"],[1.0,\"#f0f921\"]]}],\"heatmapgl\":[{\"type\":\"heatmapgl\",\"colorbar\":{\"outlinewidth\":0,\"ticks\":\"\"},\"colorscale\":[[0.0,\"#0d0887\"],[0.1111111111111111,\"#46039f\"],[0.2222222222222222,\"#7201a8\"],[0.3333333333333333,\"#9c179e\"],[0.4444444444444444,\"#bd3786\"],[0.5555555555555556,\"#d8576b\"],[0.6666666666666666,\"#ed7953\"],[0.7777777777777778,\"#fb9f3a\"],[0.8888888888888888,\"#fdca26\"],[1.0,\"#f0f921\"]]}],\"contourcarpet\":[{\"type\":\"contourcarpet\",\"colorbar\":{\"outlinewidth\":0,\"ticks\":\"\"}}],\"contour\":[{\"type\":\"contour\",\"colorbar\":{\"outlinewidth\":0,\"ticks\":\"\"},\"colorscale\":[[0.0,\"#0d0887\"],[0.1111111111111111,\"#46039f\"],[0.2222222222222222,\"#7201a8\"],[0.3333333333333333,\"#9c179e\"],[0.4444444444444444,\"#bd3786\"],[0.5555555555555556,\"#d8576b\"],[0.6666666666666666,\"#ed7953\"],[0.7777777777777778,\"#fb9f3a\"],[0.8888888888888888,\"#fdca26\"],[1.0,\"#f0f921\"]]}],\"surface\":[{\"type\":\"surface\",\"colorbar\":{\"outlinewidth\":0,\"ticks\":\"\"},\"colorscale\":[[0.0,\"#0d0887\"],[0.1111111111111111,\"#46039f\"],[0.2222222222222222,\"#7201a8\"],[0.3333333333333333,\"#9c179e\"],[0.4444444444444444,\"#bd3786\"],[0.5555555555555556,\"#d8576b\"],[0.6666666666666666,\"#ed7953\"],[0.7777777777777778,\"#fb9f3a\"],[0.8888888888888888,\"#fdca26\"],[1.0,\"#f0f921\"]]}],\"mesh3d\":[{\"type\":\"mesh3d\",\"colorbar\":{\"outlinewidth\":0,\"ticks\":\"\"}}],\"scatter\":[{\"fillpattern\":{\"fillmode\":\"overlay\",\"size\":10,\"solidity\":0.2},\"type\":\"scatter\"}],\"parcoords\":[{\"type\":\"parcoords\",\"line\":{\"colorbar\":{\"outlinewidth\":0,\"ticks\":\"\"}}}],\"scatterpolargl\":[{\"type\":\"scatterpolargl\",\"marker\":{\"colorbar\":{\"outlinewidth\":0,\"ticks\":\"\"}}}],\"bar\":[{\"error_x\":{\"color\":\"#2a3f5f\"},\"error_y\":{\"color\":\"#2a3f5f\"},\"marker\":{\"line\":{\"color\":\"#E5ECF6\",\"width\":0.5},\"pattern\":{\"fillmode\":\"overlay\",\"size\":10,\"solidity\":0.2}},\"type\":\"bar\"}],\"scattergeo\":[{\"type\":\"scattergeo\",\"marker\":{\"colorbar\":{\"outlinewidth\":0,\"ticks\":\"\"}}}],\"scatterpolar\":[{\"type\":\"scatterpolar\",\"marker\":{\"colorbar\":{\"outlinewidth\":0,\"ticks\":\"\"}}}],\"histogram\":[{\"marker\":{\"pattern\":{\"fillmode\":\"overlay\",\"size\":10,\"solidity\":0.2}},\"type\":\"histogram\"}],\"scattergl\":[{\"type\":\"scattergl\",\"marker\":{\"colorbar\":{\"outlinewidth\":0,\"ticks\":\"\"}}}],\"scatter3d\":[{\"type\":\"scatter3d\",\"line\":{\"colorbar\":{\"outlinewidth\":0,\"ticks\":\"\"}},\"marker\":{\"colorbar\":{\"outlinewidth\":0,\"ticks\":\"\"}}}],\"scattermapbox\":[{\"type\":\"scattermapbox\",\"marker\":{\"colorbar\":{\"outlinewidth\":0,\"ticks\":\"\"}}}],\"scatterternary\":[{\"type\":\"scatterternary\",\"marker\":{\"colorbar\":{\"outlinewidth\":0,\"ticks\":\"\"}}}],\"scattercarpet\":[{\"type\":\"scattercarpet\",\"marker\":{\"colorbar\":{\"outlinewidth\":0,\"ticks\":\"\"}}}],\"carpet\":[{\"aaxis\":{\"endlinecolor\":\"#2a3f5f\",\"gridcolor\":\"white\",\"linecolor\":\"white\",\"minorgridcolor\":\"white\",\"startlinecolor\":\"#2a3f5f\"},\"baxis\":{\"endlinecolor\":\"#2a3f5f\",\"gridcolor\":\"white\",\"linecolor\":\"white\",\"minorgridcolor\":\"white\",\"startlinecolor\":\"#2a3f5f\"},\"type\":\"carpet\"}],\"table\":[{\"cells\":{\"fill\":{\"color\":\"#EBF0F8\"},\"line\":{\"color\":\"white\"}},\"header\":{\"fill\":{\"color\":\"#C8D4E3\"},\"line\":{\"color\":\"white\"}},\"type\":\"table\"}],\"barpolar\":[{\"marker\":{\"line\":{\"color\":\"#E5ECF6\",\"width\":0.5},\"pattern\":{\"fillmode\":\"overlay\",\"size\":10,\"solidity\":0.2}},\"type\":\"barpolar\"}],\"pie\":[{\"automargin\":true,\"type\":\"pie\"}]},\"layout\":{\"autotypenumbers\":\"strict\",\"colorway\":[\"#636efa\",\"#EF553B\",\"#00cc96\",\"#ab63fa\",\"#FFA15A\",\"#19d3f3\",\"#FF6692\",\"#B6E880\",\"#FF97FF\",\"#FECB52\"],\"font\":{\"color\":\"#2a3f5f\"},\"hovermode\":\"closest\",\"hoverlabel\":{\"align\":\"left\"},\"paper_bgcolor\":\"white\",\"plot_bgcolor\":\"#E5ECF6\",\"polar\":{\"bgcolor\":\"#E5ECF6\",\"angularaxis\":{\"gridcolor\":\"white\",\"linecolor\":\"white\",\"ticks\":\"\"},\"radialaxis\":{\"gridcolor\":\"white\",\"linecolor\":\"white\",\"ticks\":\"\"}},\"ternary\":{\"bgcolor\":\"#E5ECF6\",\"aaxis\":{\"gridcolor\":\"white\",\"linecolor\":\"white\",\"ticks\":\"\"},\"baxis\":{\"gridcolor\":\"white\",\"linecolor\":\"white\",\"ticks\":\"\"},\"caxis\":{\"gridcolor\":\"white\",\"linecolor\":\"white\",\"ticks\":\"\"}},\"coloraxis\":{\"colorbar\":{\"outlinewidth\":0,\"ticks\":\"\"}},\"colorscale\":{\"sequential\":[[0.0,\"#0d0887\"],[0.1111111111111111,\"#46039f\"],[0.2222222222222222,\"#7201a8\"],[0.3333333333333333,\"#9c179e\"],[0.4444444444444444,\"#bd3786\"],[0.5555555555555556,\"#d8576b\"],[0.6666666666666666,\"#ed7953\"],[0.7777777777777778,\"#fb9f3a\"],[0.8888888888888888,\"#fdca26\"],[1.0,\"#f0f921\"]],\"sequentialminus\":[[0.0,\"#0d0887\"],[0.1111111111111111,\"#46039f\"],[0.2222222222222222,\"#7201a8\"],[0.3333333333333333,\"#9c179e\"],[0.4444444444444444,\"#bd3786\"],[0.5555555555555556,\"#d8576b\"],[0.6666666666666666,\"#ed7953\"],[0.7777777777777778,\"#fb9f3a\"],[0.8888888888888888,\"#fdca26\"],[1.0,\"#f0f921\"]],\"diverging\":[[0,\"#8e0152\"],[0.1,\"#c51b7d\"],[0.2,\"#de77ae\"],[0.3,\"#f1b6da\"],[0.4,\"#fde0ef\"],[0.5,\"#f7f7f7\"],[0.6,\"#e6f5d0\"],[0.7,\"#b8e186\"],[0.8,\"#7fbc41\"],[0.9,\"#4d9221\"],[1,\"#276419\"]]},\"xaxis\":{\"gridcolor\":\"white\",\"linecolor\":\"white\",\"ticks\":\"\",\"title\":{\"standoff\":15},\"zerolinecolor\":\"white\",\"automargin\":true,\"zerolinewidth\":2},\"yaxis\":{\"gridcolor\":\"white\",\"linecolor\":\"white\",\"ticks\":\"\",\"title\":{\"standoff\":15},\"zerolinecolor\":\"white\",\"automargin\":true,\"zerolinewidth\":2},\"scene\":{\"xaxis\":{\"backgroundcolor\":\"#E5ECF6\",\"gridcolor\":\"white\",\"linecolor\":\"white\",\"showbackground\":true,\"ticks\":\"\",\"zerolinecolor\":\"white\",\"gridwidth\":2},\"yaxis\":{\"backgroundcolor\":\"#E5ECF6\",\"gridcolor\":\"white\",\"linecolor\":\"white\",\"showbackground\":true,\"ticks\":\"\",\"zerolinecolor\":\"white\",\"gridwidth\":2},\"zaxis\":{\"backgroundcolor\":\"#E5ECF6\",\"gridcolor\":\"white\",\"linecolor\":\"white\",\"showbackground\":true,\"ticks\":\"\",\"zerolinecolor\":\"white\",\"gridwidth\":2}},\"shapedefaults\":{\"line\":{\"color\":\"#2a3f5f\"}},\"annotationdefaults\":{\"arrowcolor\":\"#2a3f5f\",\"arrowhead\":0,\"arrowwidth\":1},\"geo\":{\"bgcolor\":\"white\",\"landcolor\":\"#E5ECF6\",\"subunitcolor\":\"white\",\"showland\":true,\"showlakes\":true,\"lakecolor\":\"white\"},\"title\":{\"x\":0.05},\"mapbox\":{\"style\":\"light\"}}},\"xaxis\":{\"anchor\":\"y\",\"domain\":[0.0,1.0],\"title\":{\"text\":\"type\"},\"categoryorder\":\"array\",\"categoryarray\":[\"Ghoul\",\"Goblin\",\"Ghost\"]},\"yaxis\":{\"anchor\":\"x\",\"domain\":[0.0,1.0],\"title\":{\"text\":\"bone_length\"}},\"legend\":{\"title\":{\"text\":\"type\"},\"tracegroupgap\":0},\"margin\":{\"t\":60}},                        {\"responsive\": true}                    ).then(function(){\n",
       "                            \n",
       "var gd = document.getElementById('79a85d66-fe4c-4cdb-be14-7ca83c0192db');\n",
       "var x = new MutationObserver(function (mutations, observer) {{\n",
       "        var display = window.getComputedStyle(gd).display;\n",
       "        if (!display || display === 'none') {{\n",
       "            console.log([gd, 'removed!']);\n",
       "            Plotly.purge(gd);\n",
       "            observer.disconnect();\n",
       "        }}\n",
       "}});\n",
       "\n",
       "// Listen for the removal of the full notebook cells\n",
       "var notebookContainer = gd.closest('#notebook-container');\n",
       "if (notebookContainer) {{\n",
       "    x.observe(notebookContainer, {childList: true});\n",
       "}}\n",
       "\n",
       "// Listen for the clearing of the current output cell\n",
       "var outputEl = gd.closest('.output');\n",
       "if (outputEl) {{\n",
       "    x.observe(outputEl, {childList: true});\n",
       "}}\n",
       "\n",
       "                        })                };                });            </script>        </div>"
      ]
     },
     "metadata": {},
     "output_type": "display_data"
    }
   ],
   "source": [
    "import plotly.express as px\n",
    "\n",
    "px.scatter(org_df,x='type',y='bone_length',color='type')"
   ]
  },
  {
   "cell_type": "code",
   "execution_count": 6,
   "id": "e7c364f4",
   "metadata": {
    "execution": {
     "iopub.execute_input": "2022-11-07T01:00:25.732513Z",
     "iopub.status.busy": "2022-11-07T01:00:25.732135Z",
     "iopub.status.idle": "2022-11-07T01:00:25.801432Z",
     "shell.execute_reply": "2022-11-07T01:00:25.800008Z"
    },
    "id": "CntWCcR4W9Dx",
    "outputId": "4e0c64d7-fb55-4abe-b25f-6e775d811a4a",
    "papermill": {
     "duration": 0.083182,
     "end_time": "2022-11-07T01:00:25.803855",
     "exception": false,
     "start_time": "2022-11-07T01:00:25.720673",
     "status": "completed"
    },
    "tags": []
   },
   "outputs": [
    {
     "data": {
      "text/html": [
       "<div>                            <div id=\"fc29293e-1655-4ff0-b51a-62cfe85f3df7\" class=\"plotly-graph-div\" style=\"height:525px; width:100%;\"></div>            <script type=\"text/javascript\">                require([\"plotly\"], function(Plotly) {                    window.PLOTLYENV=window.PLOTLYENV || {};                                    if (document.getElementById(\"fc29293e-1655-4ff0-b51a-62cfe85f3df7\")) {                    Plotly.newPlot(                        \"fc29293e-1655-4ff0-b51a-62cfe85f3df7\",                        [{\"hovertemplate\":\"type=Ghoul<br>hair_length=%{x}<br>has_soul=%{y}<extra></extra>\",\"legendgroup\":\"Ghoul\",\"marker\":{\"color\":\"#636efa\",\"symbol\":\"circle\"},\"mode\":\"markers\",\"name\":\"Ghoul\",\"orientation\":\"v\",\"showlegend\":true,\"x\":[0.4657608918291205,0.8116160896689244,0.6367655799597881,0.6127761465851604,0.6811657623420384,0.5561094618022101,0.5325298147689491,1.0,0.529361248889943,0.5901301905716715,0.4788760240519573,0.7619487306930753,0.4357144772611028,0.7727343677011607,0.7377953702344142,0.6829307073109625,0.7074692453944934,0.6908889547102464,0.7402698805197881,0.6413094293590536,0.8093298419777889,0.678072186028185,0.6849794403737177,0.5959881099885534,0.7280790531235288,0.6168465079037313,0.4461893168527103,0.6904104961933827,0.7643118029629932,0.7076088912170572,0.6311991484505178,0.6224889268626522,0.7012144413253804,0.7177272978235335,0.7830008912984777,0.5419660479254961,0.7952065996029921,0.7097083496232938,0.5538274795707618,0.7063117660573961,0.5566914355021801,0.7187616727437887,0.75659427100265,0.7533312606217331,0.6588476466097875,0.5187103317800108,0.7143234732571501,0.8020772958890946,0.7193506301355973,0.8830876232400002,0.7592953828709256,0.6472514228287934,0.4370467247806591,0.6906053188576596,0.6796241520339236,0.5399453057165825,0.598681844667116,0.6434676262105207,0.6252424092532337,0.4749417583616708,0.4080655861465742,0.6845990131683044,0.90181023619074,0.427802093939081,0.6981899841474759,0.4756468209228535,0.8492113552790871,0.6839935981346329,0.825952917971847,0.4915352675044641,0.5454432529801341,0.9014667584893996,0.6556438273888984,0.4287174717773776,0.749885949104632,0.6826563169851186,0.8189792357764386,0.6211210491244005,0.5917520169235349,0.5314228814019432,0.5685342557786361,0.965568532709348,0.5285604037568403,0.8355006315499691,0.5997738555797856,0.5288184275146894,0.5808079950356857,0.7132363704280948,0.7148151920659093,0.2870075203943187,0.8610600925230152,0.7213623931192393,0.5980974741944622,0.6603668617061033,0.5778186741715855,0.4036303346402042,0.6673837050439432,0.3055797150261434,0.7516135247140048,0.7607364502095,0.7174795760309887,0.8501404673408831,0.946612014442891,0.6512166236569396,0.7657516183014328,0.5563310890474147,0.8511714670211034,0.6042644053259479,0.8293724953601913,0.7348547480537332,0.4211657028673038,0.7912264449001588,0.3548574295227587,0.5264208697412078,0.4929183046692216,0.5644936214175476,0.8161216310068317,0.5986208699715143,0.6207580446896525,0.7564647935134049,0.617954672131419,0.6472375551399165,0.7986176084369192,0.408421804580713,0.6318937148461823,0.6562302419663666,0.7889825792471347,0.4964462495029654,0.7372743479813444],\"xaxis\":\"x\",\"y\":[0.78114166586219,0.791224973337769,0.8844636920976973,0.4680482696484728,0.9357213331107028,0.7842165804203274,0.6655224296568855,0.708691750060939,0.5267176472227212,0.3564882329332289,0.6218228827390226,0.5137787308603302,0.3287165853781181,0.3707403331814098,0.6955887530369675,0.4726900403323142,0.5263188963457769,0.4352449488897356,0.7008569048181902,0.4622948816175269,0.9077121347405334,0.7963323704355315,0.5015436658450332,0.6471415616675186,0.5617819587476738,0.4800460331707734,0.8008532560215341,0.4795252725047397,0.2808536942554318,0.7694553869322027,0.5911064565425131,0.7826990352369126,0.5675633245510552,0.5316405586386899,0.6744786043392166,0.5690111635288884,0.7394285224985448,0.6490072648772257,0.6794031601976999,0.5834153354713172,0.5637201631341431,0.5080565482452986,0.6092226071235277,0.6125769935483754,0.4663716652206057,0.4562133032583986,0.6502638308796707,0.4549219367786182,0.44744371634454,0.5244924107920369,0.6569434116684002,0.5052134266801225,0.6482301732469332,0.6984804653455878,0.6270302448657145,0.7663107982186453,0.6424059676312402,0.5837499669420213,0.6153082208134042,0.4484017950452802,0.7875127894149119,0.575277204012294,0.5411234740544943,0.5336957184844102,0.7536870809531032,0.6645758508325311,0.5170909693916612,0.7920717584189387,0.5034754896393583,0.2995110623516535,0.6003927412898974,0.4480635496432015,0.4591233182574153,0.7924097607153152,0.7626759520243293,0.6270858482985827,0.6245038929566373,0.7401986547089792,0.6596218307800241,0.5606587838094296,0.556149201619786,0.6359345971757204,0.3681480443948453,0.6361012301828235,0.8567568167671697,0.3735016571301501,0.5998460303550801,0.5996677875533437,0.6131141225129884,0.6416805442858692,0.7358968953394378,0.4919379191467224,0.4674467861467118,0.605896960260879,0.733815877405728,0.544586652208558,0.7405790642637972,0.7775196969582735,0.7259599419999203,0.5702604475625773,0.6947839601121377,0.7942472943179957,0.676992586402129,0.4121756662989291,0.6102976743553843,0.6931487489923561,0.5807525622359989,0.4091902593002075,0.5778361624373266,0.546648257094182,0.7854226316995812,0.4829132184080529,0.7604317994664286,0.7033103648544025,0.8031946198782922,0.4894910714495504,0.6514913737638149,0.5445659125918522,0.7125488314218412,0.4536338330897058,0.5935448602683817,0.4656888678867193,0.4600606006479525,0.6449405291466007,0.3865087470270767,0.4698857370086443,0.4285529910950088,0.5440032316400073,0.6083839550449307],\"yaxis\":\"y\",\"type\":\"scatter\"},{\"hovertemplate\":\"type=Goblin<br>hair_length=%{x}<br>has_soul=%{y}<extra></extra>\",\"legendgroup\":\"Goblin\",\"marker\":{\"color\":\"#EF553B\",\"symbol\":\"circle\"},\"mode\":\"markers\",\"name\":\"Goblin\",\"orientation\":\"v\",\"showlegend\":true,\"x\":[0.5314013787091408,0.4414196710726872,0.6183910202674578,0.2392124879973941,0.4844577817226679,0.7456755654684397,0.4977828029510476,0.6758683607952992,0.6696272909639486,0.6048791200547257,0.4080971534648053,0.5272248823714463,0.5924842265783549,0.3301456396587741,0.5695446230585894,0.4667249454869934,0.6311837728986085,0.5868540657573691,0.4148160632278105,0.477151808358027,0.5687211851289684,0.4654186935799081,0.6195587471733435,0.4925270324802118,0.5390045850320772,0.579925795870067,0.6565276392185239,0.5299634775383124,0.6235057827956325,0.6644342774170744,0.3679139233883964,0.5159266836490247,0.4680374498054059,0.4689364528322659,0.3367107120179355,0.6588470862855409,0.3055935585139359,0.6439888699324209,0.2942143044827539,0.4826913519554032,0.5814003518123008,0.4535154573557917,0.4924410100563741,0.6504305254894994,0.3561078481838985,0.5275759263590484,0.5594994385327345,0.8006455073380017,0.3120016037441498,0.5479770541342132,0.5132440884492735,0.3537460225757103,0.6539385877943338,0.3936569335886848,0.7169969375107043,0.5844348854528356,0.3964286740824388,0.5381458572290391,0.474254675734824,0.5968352850010129,0.5863935520579039,0.6301836580112177,0.3917703338386066,0.6209124499240235,0.4036303110740407,0.5587764002351772,0.765131104827964,0.3787065562118162,0.515442066863545,0.4067905221381402,0.3807165833455602,0.4272752269206539,0.5955294577342635,0.515815395861687,0.4711195157317104,0.6547214095239163,0.5897838964861386,0.641630555346056,0.7206782608955851,0.4566182375844146,0.4489891933979612,0.6217871470661697,0.5865127801377743,0.3574054492749826,0.2534588626743252,0.5058186231118217,0.5458802869535341,0.5612710788405073,0.6396500067877003,0.4888433654677488,0.6424505913910452,0.5332964096963335,0.5147490467097858,0.5594443924607964,0.6090040178878497,0.584209778754942,0.5353444823915584,0.7683330522823812,0.342815920723563,0.6209557115311447,0.5769116792804196,0.5911200104982167,0.7566291207477428,0.694287038730347,0.5496132061727924,0.5958799946619029,0.5418338647344139,0.6347676415210999,0.6538545201052042,0.5828646952080849,0.6585401835559873,0.666816451154938,0.5956286899543685,0.5925587890039019,0.4960383282659343,0.5744578178095248,0.7149870242277861,0.5557276505550555,0.6448010334120685,0.5362475723300909,0.57198307632316,0.5586141779285623,0.4973513849100462,0.8400125685822827,0.6605898989575533],\"xaxis\":\"x\",\"y\":[0.439898877037289,0.2803238199213896,0.4679008345210921,0.4718195627187505,0.4653278802844954,0.5457922990384892,0.4720310491885279,0.4147003342395816,0.5386486690149674,0.3761415241524868,0.4329211406473242,0.3867134123693171,0.61536431261308,0.4274020872726478,0.4552847774447461,0.2999927060981274,0.4450454788106796,0.4908787937274375,0.4886172080770984,0.4893578586829505,0.5340786157865054,0.4591407549234579,0.2921310204613237,0.3023012050644125,0.495069123498046,0.511726043098702,0.465084500998666,0.3771214225861956,0.2965062830705051,0.5041788374944127,0.5358577412186541,0.6234190564594687,0.5460900739076539,0.1944133104434503,0.3180327182965733,0.3309152241162056,0.3718074755513306,0.3222355709868215,0.3177953129419818,0.4600806815642914,0.5678428976117842,0.3363903219681988,0.3455920106968366,0.5280153363603927,0.5509678477856494,0.6972681307061295,0.7616206764375024,0.3596816845870296,0.3826995550048712,0.3683700124904728,0.3710145909474462,0.4908843315183884,0.6759611115419202,0.3639073342700609,0.3325922146699069,0.5571361352049744,0.5071423107372529,0.6008270879099518,0.4193194969992285,0.6830894876636203,0.5833937494035416,0.6110125099756385,0.3676887196731881,0.612720425460397,0.2867936496225201,0.2305229311657603,0.5751389298780695,0.7089807908097879,0.3887911641110499,0.364341065798817,0.4558445428731741,0.6258241156937853,0.5565001591276154,0.4762123660928846,0.698964674530999,0.4053193567377349,0.4294659654920859,0.5984854644556219,0.6898848077976206,0.4660241540706306,0.7567663606655737,0.6893261967890804,0.4027485507341818,0.3160726675232211,0.5450234213096578,0.5090096263864126,0.3136445217288742,0.627067543523131,0.6048009711124263,0.4114606416224942,0.3272120613307892,0.4508426987669187,0.4365369543167563,0.4351882858803488,0.4873011508793926,0.6553298521146043,0.2463467223408892,0.6540064228000888,0.5267847856283531,0.6248482602843604,0.5093680078184192,0.5787140455811215,0.8549489712660003,0.5435362673149564,0.4475171934803702,0.6096158422840292,0.3490872993183736,0.5064325040700844,0.4089374660587713,0.5103313211436651,0.4640021544269874,0.5400973133957662,0.5325942281982944,0.3439898944965244,0.6596835886270487,0.6422995761949135,0.3226757464202977,0.6382316190935432,0.4153942106557978,0.4276784934724291,0.431373254848531,0.3993017127374322,0.3933045478174321,0.3533827230257571,0.6356891853240133],\"yaxis\":\"y\",\"type\":\"scatter\"},{\"hovertemplate\":\"type=Ghost<br>hair_length=%{x}<br>has_soul=%{y}<extra></extra>\",\"legendgroup\":\"Ghost\",\"marker\":{\"color\":\"#00cc96\",\"symbol\":\"circle\"},\"mode\":\"markers\",\"name\":\"Ghost\",\"orientation\":\"v\",\"showlegend\":true,\"x\":[0.4185936708748796,0.4172669166262837,0.1796332951168527,0.5546544421413162,0.5246370241727257,0.3737434190675078,0.2493371056309895,0.2363315402934902,0.4790941518551199,0.473956164160065,0.4637936467899993,0.5066109316216567,0.2349438320381451,0.2187315417015251,0.5516643383579455,0.3853868557785362,0.3410744137269793,0.2437552812322784,0.3386778672633181,0.4610676058384106,0.2052363255231178,0.4811904007635504,0.2906553190256964,0.3239206175746259,0.3651420442153378,0.3218666509759288,0.3207643667068983,0.4514895721192367,0.3139479672049924,0.3964819211799767,0.2306190615329712,0.3579873822644758,0.47646865712531,0.4341712308544054,0.3066823430350168,0.3900567463337536,0.32906119541444,0.3284001364274935,0.4626285838932552,0.4630626092109058,0.5405491438378014,0.4377453223826534,0.3571884062926715,0.597166809659954,0.3816550953050476,0.4741284357838143,0.4747881424513825,0.5876280121451709,0.3201452795039712,0.3849252739965028,0.3836788202425789,0.2530289743046057,0.372529062910916,0.4467212961211418,0.1626113404419526,0.3104686239329647,0.4154396195689134,0.3338835278403494,0.2356688068470746,0.4284977335487106,0.2665900033908182,0.2591668565055055,0.4217035629833128,0.1768821916057256,0.1627147242494507,0.506319610394718,0.3605797954313112,0.3137928944501894,0.1640738194063587,0.3532766829724776,0.3489371301868126,0.194400109160664,0.5519699106914849,0.3039274085244652,0.3073575328688198,0.4163537370578704,0.2050967323077951,0.2522955610769081,0.3325456764268887,0.4531626063046927,0.1953651811382809,0.4089450310087078,0.1643205780645732,0.5044171539802028,0.3308218889265523,0.3918804342554825,0.2635489646612248,0.3089947199874907,0.3664606599964958,0.6363397309473561,0.1346003625956473,0.1950720821281122,0.5386424792099368,0.3743963341928218,0.4458596184119873,0.2985685239214783,0.3287520789411103,0.5073605910023625,0.4575028379481982,0.5712096006938082,0.3634385458746502,0.4148836098096881,0.3443478996707319,0.3315312040178976,0.5072143527884544,0.4192265518026262,0.4436390218448215,0.609449079243181,0.6290679358102901,0.4687553518777524,0.2992346705676879,0.2995069579313811,0.2967838630001996,0.2030569347350796,0.3345200230296363,0.5392155253895515,0.5835025434061195],\"xaxis\":\"x\",\"y\":[0.6364378187279373,0.2275475750972251,0.1411826507100036,0.2500355193334616,0.4433583431154124,0.3296358811256823,0.1973817900366121,0.3004857328309415,0.4826926871359688,0.4082938233981211,0.4362160533497054,0.2683154656682969,0.3216226096769483,0.0433212009255868,0.1593670043648448,0.2193125275944253,0.3485782632164919,0.3482399469310024,0.0889244709798438,0.1271486012819079,0.1278768795128998,0.177172419325805,0.3042831010111143,0.5745054710533029,0.1715391821159406,0.0094016158786619,0.2434395068656316,0.4175156742278211,0.055464022849426,0.4479461449165569,0.2850665553974325,0.4840546343724389,0.2331355777366279,0.3518509542111916,0.3608534668174701,0.2936316647964402,0.4299330240052756,0.3259061874219192,0.0364572223789816,0.2910043295465112,0.495465570851785,0.2761631226500659,0.2601604796771369,0.292292888616969,0.420199005042207,0.4259933073478842,0.5149436616217669,0.23796628009425,0.4151553339725777,0.3858816614586571,0.3075337519855106,0.385886526396036,0.4995204310577366,0.4122325749081624,0.4534650235972716,0.3566989716589245,0.4970978901051466,0.2867734175724535,0.0644682675100267,0.2630632747085554,0.3076300030568211,0.2091293587758531,0.2168002949099024,0.2872897954043422,0.0999041666877589,0.0894021549771662,0.3639124829196237,0.4180526144087382,0.5940883374580593,0.1794375417543184,0.3486614628789351,0.2645622676182196,0.3170772946370197,0.2554399348818104,0.2303608171161942,0.4159298561467601,0.2576167455866692,0.3477648971789816,0.1612549398420233,0.431741682033267,0.367901682802343,0.2171466588930796,0.3006585885252317,0.4090031672887874,0.2040038550762471,0.4173443132622753,0.1216866926106156,0.2955094670285272,0.4015665096500681,0.2481432621832248,0.2270684068617264,0.3076679008815882,0.084828839477442,0.5217296004701502,0.4095255001942346,0.1611269986064954,0.2796675314611779,0.4146968185712928,0.3464742940842629,0.2437753043181011,0.6141577482798738,0.2880532532927864,0.3463062462505728,0.5232825307796921,0.1796421921347163,0.5193612257496387,0.539799547425459,0.3842929461674824,0.2920598869669624,0.2536237179172178,0.5700730854855057,0.4258022263267003,0.6899803696223118,0.1941049950833807,0.3444034758439047,0.5514705080053851,0.3006180390267751],\"yaxis\":\"y\",\"type\":\"scatter\"}],                        {\"template\":{\"data\":{\"histogram2dcontour\":[{\"type\":\"histogram2dcontour\",\"colorbar\":{\"outlinewidth\":0,\"ticks\":\"\"},\"colorscale\":[[0.0,\"#0d0887\"],[0.1111111111111111,\"#46039f\"],[0.2222222222222222,\"#7201a8\"],[0.3333333333333333,\"#9c179e\"],[0.4444444444444444,\"#bd3786\"],[0.5555555555555556,\"#d8576b\"],[0.6666666666666666,\"#ed7953\"],[0.7777777777777778,\"#fb9f3a\"],[0.8888888888888888,\"#fdca26\"],[1.0,\"#f0f921\"]]}],\"choropleth\":[{\"type\":\"choropleth\",\"colorbar\":{\"outlinewidth\":0,\"ticks\":\"\"}}],\"histogram2d\":[{\"type\":\"histogram2d\",\"colorbar\":{\"outlinewidth\":0,\"ticks\":\"\"},\"colorscale\":[[0.0,\"#0d0887\"],[0.1111111111111111,\"#46039f\"],[0.2222222222222222,\"#7201a8\"],[0.3333333333333333,\"#9c179e\"],[0.4444444444444444,\"#bd3786\"],[0.5555555555555556,\"#d8576b\"],[0.6666666666666666,\"#ed7953\"],[0.7777777777777778,\"#fb9f3a\"],[0.8888888888888888,\"#fdca26\"],[1.0,\"#f0f921\"]]}],\"heatmap\":[{\"type\":\"heatmap\",\"colorbar\":{\"outlinewidth\":0,\"ticks\":\"\"},\"colorscale\":[[0.0,\"#0d0887\"],[0.1111111111111111,\"#46039f\"],[0.2222222222222222,\"#7201a8\"],[0.3333333333333333,\"#9c179e\"],[0.4444444444444444,\"#bd3786\"],[0.5555555555555556,\"#d8576b\"],[0.6666666666666666,\"#ed7953\"],[0.7777777777777778,\"#fb9f3a\"],[0.8888888888888888,\"#fdca26\"],[1.0,\"#f0f921\"]]}],\"heatmapgl\":[{\"type\":\"heatmapgl\",\"colorbar\":{\"outlinewidth\":0,\"ticks\":\"\"},\"colorscale\":[[0.0,\"#0d0887\"],[0.1111111111111111,\"#46039f\"],[0.2222222222222222,\"#7201a8\"],[0.3333333333333333,\"#9c179e\"],[0.4444444444444444,\"#bd3786\"],[0.5555555555555556,\"#d8576b\"],[0.6666666666666666,\"#ed7953\"],[0.7777777777777778,\"#fb9f3a\"],[0.8888888888888888,\"#fdca26\"],[1.0,\"#f0f921\"]]}],\"contourcarpet\":[{\"type\":\"contourcarpet\",\"colorbar\":{\"outlinewidth\":0,\"ticks\":\"\"}}],\"contour\":[{\"type\":\"contour\",\"colorbar\":{\"outlinewidth\":0,\"ticks\":\"\"},\"colorscale\":[[0.0,\"#0d0887\"],[0.1111111111111111,\"#46039f\"],[0.2222222222222222,\"#7201a8\"],[0.3333333333333333,\"#9c179e\"],[0.4444444444444444,\"#bd3786\"],[0.5555555555555556,\"#d8576b\"],[0.6666666666666666,\"#ed7953\"],[0.7777777777777778,\"#fb9f3a\"],[0.8888888888888888,\"#fdca26\"],[1.0,\"#f0f921\"]]}],\"surface\":[{\"type\":\"surface\",\"colorbar\":{\"outlinewidth\":0,\"ticks\":\"\"},\"colorscale\":[[0.0,\"#0d0887\"],[0.1111111111111111,\"#46039f\"],[0.2222222222222222,\"#7201a8\"],[0.3333333333333333,\"#9c179e\"],[0.4444444444444444,\"#bd3786\"],[0.5555555555555556,\"#d8576b\"],[0.6666666666666666,\"#ed7953\"],[0.7777777777777778,\"#fb9f3a\"],[0.8888888888888888,\"#fdca26\"],[1.0,\"#f0f921\"]]}],\"mesh3d\":[{\"type\":\"mesh3d\",\"colorbar\":{\"outlinewidth\":0,\"ticks\":\"\"}}],\"scatter\":[{\"fillpattern\":{\"fillmode\":\"overlay\",\"size\":10,\"solidity\":0.2},\"type\":\"scatter\"}],\"parcoords\":[{\"type\":\"parcoords\",\"line\":{\"colorbar\":{\"outlinewidth\":0,\"ticks\":\"\"}}}],\"scatterpolargl\":[{\"type\":\"scatterpolargl\",\"marker\":{\"colorbar\":{\"outlinewidth\":0,\"ticks\":\"\"}}}],\"bar\":[{\"error_x\":{\"color\":\"#2a3f5f\"},\"error_y\":{\"color\":\"#2a3f5f\"},\"marker\":{\"line\":{\"color\":\"#E5ECF6\",\"width\":0.5},\"pattern\":{\"fillmode\":\"overlay\",\"size\":10,\"solidity\":0.2}},\"type\":\"bar\"}],\"scattergeo\":[{\"type\":\"scattergeo\",\"marker\":{\"colorbar\":{\"outlinewidth\":0,\"ticks\":\"\"}}}],\"scatterpolar\":[{\"type\":\"scatterpolar\",\"marker\":{\"colorbar\":{\"outlinewidth\":0,\"ticks\":\"\"}}}],\"histogram\":[{\"marker\":{\"pattern\":{\"fillmode\":\"overlay\",\"size\":10,\"solidity\":0.2}},\"type\":\"histogram\"}],\"scattergl\":[{\"type\":\"scattergl\",\"marker\":{\"colorbar\":{\"outlinewidth\":0,\"ticks\":\"\"}}}],\"scatter3d\":[{\"type\":\"scatter3d\",\"line\":{\"colorbar\":{\"outlinewidth\":0,\"ticks\":\"\"}},\"marker\":{\"colorbar\":{\"outlinewidth\":0,\"ticks\":\"\"}}}],\"scattermapbox\":[{\"type\":\"scattermapbox\",\"marker\":{\"colorbar\":{\"outlinewidth\":0,\"ticks\":\"\"}}}],\"scatterternary\":[{\"type\":\"scatterternary\",\"marker\":{\"colorbar\":{\"outlinewidth\":0,\"ticks\":\"\"}}}],\"scattercarpet\":[{\"type\":\"scattercarpet\",\"marker\":{\"colorbar\":{\"outlinewidth\":0,\"ticks\":\"\"}}}],\"carpet\":[{\"aaxis\":{\"endlinecolor\":\"#2a3f5f\",\"gridcolor\":\"white\",\"linecolor\":\"white\",\"minorgridcolor\":\"white\",\"startlinecolor\":\"#2a3f5f\"},\"baxis\":{\"endlinecolor\":\"#2a3f5f\",\"gridcolor\":\"white\",\"linecolor\":\"white\",\"minorgridcolor\":\"white\",\"startlinecolor\":\"#2a3f5f\"},\"type\":\"carpet\"}],\"table\":[{\"cells\":{\"fill\":{\"color\":\"#EBF0F8\"},\"line\":{\"color\":\"white\"}},\"header\":{\"fill\":{\"color\":\"#C8D4E3\"},\"line\":{\"color\":\"white\"}},\"type\":\"table\"}],\"barpolar\":[{\"marker\":{\"line\":{\"color\":\"#E5ECF6\",\"width\":0.5},\"pattern\":{\"fillmode\":\"overlay\",\"size\":10,\"solidity\":0.2}},\"type\":\"barpolar\"}],\"pie\":[{\"automargin\":true,\"type\":\"pie\"}]},\"layout\":{\"autotypenumbers\":\"strict\",\"colorway\":[\"#636efa\",\"#EF553B\",\"#00cc96\",\"#ab63fa\",\"#FFA15A\",\"#19d3f3\",\"#FF6692\",\"#B6E880\",\"#FF97FF\",\"#FECB52\"],\"font\":{\"color\":\"#2a3f5f\"},\"hovermode\":\"closest\",\"hoverlabel\":{\"align\":\"left\"},\"paper_bgcolor\":\"white\",\"plot_bgcolor\":\"#E5ECF6\",\"polar\":{\"bgcolor\":\"#E5ECF6\",\"angularaxis\":{\"gridcolor\":\"white\",\"linecolor\":\"white\",\"ticks\":\"\"},\"radialaxis\":{\"gridcolor\":\"white\",\"linecolor\":\"white\",\"ticks\":\"\"}},\"ternary\":{\"bgcolor\":\"#E5ECF6\",\"aaxis\":{\"gridcolor\":\"white\",\"linecolor\":\"white\",\"ticks\":\"\"},\"baxis\":{\"gridcolor\":\"white\",\"linecolor\":\"white\",\"ticks\":\"\"},\"caxis\":{\"gridcolor\":\"white\",\"linecolor\":\"white\",\"ticks\":\"\"}},\"coloraxis\":{\"colorbar\":{\"outlinewidth\":0,\"ticks\":\"\"}},\"colorscale\":{\"sequential\":[[0.0,\"#0d0887\"],[0.1111111111111111,\"#46039f\"],[0.2222222222222222,\"#7201a8\"],[0.3333333333333333,\"#9c179e\"],[0.4444444444444444,\"#bd3786\"],[0.5555555555555556,\"#d8576b\"],[0.6666666666666666,\"#ed7953\"],[0.7777777777777778,\"#fb9f3a\"],[0.8888888888888888,\"#fdca26\"],[1.0,\"#f0f921\"]],\"sequentialminus\":[[0.0,\"#0d0887\"],[0.1111111111111111,\"#46039f\"],[0.2222222222222222,\"#7201a8\"],[0.3333333333333333,\"#9c179e\"],[0.4444444444444444,\"#bd3786\"],[0.5555555555555556,\"#d8576b\"],[0.6666666666666666,\"#ed7953\"],[0.7777777777777778,\"#fb9f3a\"],[0.8888888888888888,\"#fdca26\"],[1.0,\"#f0f921\"]],\"diverging\":[[0,\"#8e0152\"],[0.1,\"#c51b7d\"],[0.2,\"#de77ae\"],[0.3,\"#f1b6da\"],[0.4,\"#fde0ef\"],[0.5,\"#f7f7f7\"],[0.6,\"#e6f5d0\"],[0.7,\"#b8e186\"],[0.8,\"#7fbc41\"],[0.9,\"#4d9221\"],[1,\"#276419\"]]},\"xaxis\":{\"gridcolor\":\"white\",\"linecolor\":\"white\",\"ticks\":\"\",\"title\":{\"standoff\":15},\"zerolinecolor\":\"white\",\"automargin\":true,\"zerolinewidth\":2},\"yaxis\":{\"gridcolor\":\"white\",\"linecolor\":\"white\",\"ticks\":\"\",\"title\":{\"standoff\":15},\"zerolinecolor\":\"white\",\"automargin\":true,\"zerolinewidth\":2},\"scene\":{\"xaxis\":{\"backgroundcolor\":\"#E5ECF6\",\"gridcolor\":\"white\",\"linecolor\":\"white\",\"showbackground\":true,\"ticks\":\"\",\"zerolinecolor\":\"white\",\"gridwidth\":2},\"yaxis\":{\"backgroundcolor\":\"#E5ECF6\",\"gridcolor\":\"white\",\"linecolor\":\"white\",\"showbackground\":true,\"ticks\":\"\",\"zerolinecolor\":\"white\",\"gridwidth\":2},\"zaxis\":{\"backgroundcolor\":\"#E5ECF6\",\"gridcolor\":\"white\",\"linecolor\":\"white\",\"showbackground\":true,\"ticks\":\"\",\"zerolinecolor\":\"white\",\"gridwidth\":2}},\"shapedefaults\":{\"line\":{\"color\":\"#2a3f5f\"}},\"annotationdefaults\":{\"arrowcolor\":\"#2a3f5f\",\"arrowhead\":0,\"arrowwidth\":1},\"geo\":{\"bgcolor\":\"white\",\"landcolor\":\"#E5ECF6\",\"subunitcolor\":\"white\",\"showland\":true,\"showlakes\":true,\"lakecolor\":\"white\"},\"title\":{\"x\":0.05},\"mapbox\":{\"style\":\"light\"}}},\"xaxis\":{\"anchor\":\"y\",\"domain\":[0.0,1.0],\"title\":{\"text\":\"hair_length\"}},\"yaxis\":{\"anchor\":\"x\",\"domain\":[0.0,1.0],\"title\":{\"text\":\"has_soul\"}},\"legend\":{\"title\":{\"text\":\"type\"},\"tracegroupgap\":0},\"margin\":{\"t\":60}},                        {\"responsive\": true}                    ).then(function(){\n",
       "                            \n",
       "var gd = document.getElementById('fc29293e-1655-4ff0-b51a-62cfe85f3df7');\n",
       "var x = new MutationObserver(function (mutations, observer) {{\n",
       "        var display = window.getComputedStyle(gd).display;\n",
       "        if (!display || display === 'none') {{\n",
       "            console.log([gd, 'removed!']);\n",
       "            Plotly.purge(gd);\n",
       "            observer.disconnect();\n",
       "        }}\n",
       "}});\n",
       "\n",
       "// Listen for the removal of the full notebook cells\n",
       "var notebookContainer = gd.closest('#notebook-container');\n",
       "if (notebookContainer) {{\n",
       "    x.observe(notebookContainer, {childList: true});\n",
       "}}\n",
       "\n",
       "// Listen for the clearing of the current output cell\n",
       "var outputEl = gd.closest('.output');\n",
       "if (outputEl) {{\n",
       "    x.observe(outputEl, {childList: true});\n",
       "}}\n",
       "\n",
       "                        })                };                });            </script>        </div>"
      ]
     },
     "metadata": {},
     "output_type": "display_data"
    }
   ],
   "source": [
    "px.scatter(org_df,x='hair_length',y='has_soul',color='type')"
   ]
  },
  {
   "cell_type": "code",
   "execution_count": 7,
   "id": "1371ad3f",
   "metadata": {
    "execution": {
     "iopub.execute_input": "2022-11-07T01:00:25.824932Z",
     "iopub.status.busy": "2022-11-07T01:00:25.824488Z",
     "iopub.status.idle": "2022-11-07T01:00:25.885310Z",
     "shell.execute_reply": "2022-11-07T01:00:25.884121Z"
    },
    "id": "r42FQjMIXBMB",
    "outputId": "d452f3c8-25b9-4f07-c452-2fafaa389ceb",
    "papermill": {
     "duration": 0.074581,
     "end_time": "2022-11-07T01:00:25.888137",
     "exception": false,
     "start_time": "2022-11-07T01:00:25.813556",
     "status": "completed"
    },
    "tags": []
   },
   "outputs": [
    {
     "data": {
      "text/html": [
       "<div>                            <div id=\"cfad3d7d-eb74-4f9b-8214-f6a3d51743c8\" class=\"plotly-graph-div\" style=\"height:525px; width:100%;\"></div>            <script type=\"text/javascript\">                require([\"plotly\"], function(Plotly) {                    window.PLOTLYENV=window.PLOTLYENV || {};                                    if (document.getElementById(\"cfad3d7d-eb74-4f9b-8214-f6a3d51743c8\")) {                    Plotly.newPlot(                        \"cfad3d7d-eb74-4f9b-8214-f6a3d51743c8\",                        [{\"hovertemplate\":\"type=Ghoul<br>bone_length=%{x}<br>has_soul=%{y}<extra></extra>\",\"legendgroup\":\"Ghoul\",\"marker\":{\"color\":\"#636efa\",\"symbol\":\"circle\"},\"mode\":\"markers\",\"name\":\"Ghoul\",\"orientation\":\"v\",\"showlegend\":true,\"x\":[0.3545121845821541,0.467875498742323,0.776652460655474,0.5162238981116547,0.584543226402469,0.3907121285960714,0.5001965520236578,0.5855593168709793,0.6058359561481175,0.4726032938231003,0.3433496058239474,0.6872555002914946,0.6729770643554356,0.5581960768300526,0.6363467701119719,0.5642817569821001,0.4151096964698842,0.3141428773386546,0.4817163588057449,0.5716187693902656,0.4954670559912866,0.5126766858793707,0.7535051395445669,0.6654319716727949,0.6441755544149369,0.2275320914606136,0.3152760326328197,0.5102421707697722,0.5861772994209699,0.6313272032845839,0.501305752172094,0.5147166050287932,0.521779901441308,0.6008978671842379,0.3508380816775922,0.4406963474555094,0.4507593196196853,0.4967339773850895,0.5325901084246948,0.587570659847358,0.4720591455885397,0.4440092595626775,0.3513153022774596,0.4349977494520962,0.6091606601249137,0.6671816209592498,0.5841766673316365,0.4161517532856235,0.5349876694608388,0.6694190901475464,0.5598250745457363,0.6304705900407669,0.8170014327207992,0.5408063266621841,0.4896277054256568,0.5107041762420627,0.5655213379202007,0.3087546910594997,0.6816150258023715,0.3674193755313768,0.7308481259008561,0.5664239021619079,0.2966045215824983,0.42172073418984,0.3571453629923807,0.523832930184412,0.322303941310501,0.5055970065854175,0.489446322959167,0.4311850258585969,0.5182308394104409,0.5159845568291059,0.6277343663920077,0.6148994038783354,0.5244103827541664,0.3345520956409246,0.5237886449947281,0.6544882647955068,0.4996096456060792,0.4827161837683349,0.2007525650933715,0.7552975085362733,0.4308013866548665,0.5884133649804179,0.5862265848381086,0.5153971790364432,0.6133645269466709,0.5299845645400029,0.5903836895047814,0.4068335382007837,0.7613554112947414,0.4798184400763809,0.4624895790300461,0.4933947548278907,0.2323006781078838,0.4768916238529865,0.3582398592403725,0.6305854122728537,0.6870798464680745,0.7571377380956645,0.5400876338610013,0.5340006619939253,0.5212368917903017,0.5285356140406823,0.3870112735401417,0.6005569017635347,0.4219335411095097,0.4177761432660903,0.4223219616418998,0.6495590309746747,0.5710561840298457,0.5411810684466748,0.5160036963323632,0.3834889715343975,0.5115925357978953,0.3201754063428098,0.4396245808903376,0.4886321866874934,0.6266145629030311,0.7129132189757785,0.5025990844061363,0.4961396808820898,0.4348911277684966,0.6260168005606022,0.4677850248522497,0.5010218791127545,0.4060617791475717,0.4816397309789108,0.6701995355809963],\"xaxis\":\"x\",\"y\":[0.78114166586219,0.791224973337769,0.8844636920976973,0.4680482696484728,0.9357213331107028,0.7842165804203274,0.6655224296568855,0.708691750060939,0.5267176472227212,0.3564882329332289,0.6218228827390226,0.5137787308603302,0.3287165853781181,0.3707403331814098,0.6955887530369675,0.4726900403323142,0.5263188963457769,0.4352449488897356,0.7008569048181902,0.4622948816175269,0.9077121347405334,0.7963323704355315,0.5015436658450332,0.6471415616675186,0.5617819587476738,0.4800460331707734,0.8008532560215341,0.4795252725047397,0.2808536942554318,0.7694553869322027,0.5911064565425131,0.7826990352369126,0.5675633245510552,0.5316405586386899,0.6744786043392166,0.5690111635288884,0.7394285224985448,0.6490072648772257,0.6794031601976999,0.5834153354713172,0.5637201631341431,0.5080565482452986,0.6092226071235277,0.6125769935483754,0.4663716652206057,0.4562133032583986,0.6502638308796707,0.4549219367786182,0.44744371634454,0.5244924107920369,0.6569434116684002,0.5052134266801225,0.6482301732469332,0.6984804653455878,0.6270302448657145,0.7663107982186453,0.6424059676312402,0.5837499669420213,0.6153082208134042,0.4484017950452802,0.7875127894149119,0.575277204012294,0.5411234740544943,0.5336957184844102,0.7536870809531032,0.6645758508325311,0.5170909693916612,0.7920717584189387,0.5034754896393583,0.2995110623516535,0.6003927412898974,0.4480635496432015,0.4591233182574153,0.7924097607153152,0.7626759520243293,0.6270858482985827,0.6245038929566373,0.7401986547089792,0.6596218307800241,0.5606587838094296,0.556149201619786,0.6359345971757204,0.3681480443948453,0.6361012301828235,0.8567568167671697,0.3735016571301501,0.5998460303550801,0.5996677875533437,0.6131141225129884,0.6416805442858692,0.7358968953394378,0.4919379191467224,0.4674467861467118,0.605896960260879,0.733815877405728,0.544586652208558,0.7405790642637972,0.7775196969582735,0.7259599419999203,0.5702604475625773,0.6947839601121377,0.7942472943179957,0.676992586402129,0.4121756662989291,0.6102976743553843,0.6931487489923561,0.5807525622359989,0.4091902593002075,0.5778361624373266,0.546648257094182,0.7854226316995812,0.4829132184080529,0.7604317994664286,0.7033103648544025,0.8031946198782922,0.4894910714495504,0.6514913737638149,0.5445659125918522,0.7125488314218412,0.4536338330897058,0.5935448602683817,0.4656888678867193,0.4600606006479525,0.6449405291466007,0.3865087470270767,0.4698857370086443,0.4285529910950088,0.5440032316400073,0.6083839550449307],\"yaxis\":\"y\",\"type\":\"scatter\"},{\"hovertemplate\":\"type=Goblin<br>bone_length=%{x}<br>has_soul=%{y}<extra></extra>\",\"legendgroup\":\"Goblin\",\"marker\":{\"color\":\"#EF553B\",\"symbol\":\"circle\"},\"mode\":\"markers\",\"name\":\"Goblin\",\"orientation\":\"v\",\"showlegend\":true,\"x\":[0.5755599050254655,0.405679744891883,0.399330850860438,0.4316852133394812,0.3515586720944532,0.5133872213931538,0.503164057832666,0.374448573799757,0.3885005478963415,0.4924381032273604,0.4116626945454133,0.3041977859670044,0.5545095992350249,0.5237285619471904,0.3849579750034331,0.2871931864179819,0.3628871069153425,0.2952291420624456,0.6276523661689718,0.6785187395803213,0.5152749837361404,0.622413651059006,0.2086251737392714,0.4909877679338796,0.4808360007818567,0.4983363846536767,0.485801814781045,0.3440868558121701,0.4645909855146808,0.3788110345115076,0.6194680108100487,0.5803025204175463,0.3654367072896388,0.4315007990246001,0.3059428946213542,0.252512821690625,0.4527408048904949,0.440854689448784,0.4767300230361486,0.4891323934260234,0.4538691895009534,0.2734580108777351,0.3395008141245191,0.5053752538799586,0.3877299926209585,0.6178324098326736,0.3583113280000451,0.3247693380948151,0.2971478482685644,0.3515617488056713,0.379547939481265,0.3842352341392903,0.3692739347589883,0.4244927698345165,0.5289868407342713,0.5277621870564683,0.329668208763034,0.4068796467950714,0.3899276800513611,0.2527332023614684,0.476768596926305,0.4307970001287445,0.4973169405876106,0.4460409758551139,0.5949939542985202,0.4532135030785801,0.5715019843857816,0.4984383302504508,0.47120115455526,0.4654233249019935,0.5254848998177738,0.5176317289678591,0.6221239910511766,0.3962978552150852,0.2279477968345748,0.4390632860190493,0.4036187136141595,0.4690199209184322,0.2850220936317743,0.2502931550286889,0.339569098440343,0.5241379236461077,0.2750211376626579,0.2844510413025236,0.3365734156264305,0.4510851028671813,0.3045185925967165,0.5871421359150822,0.4272175448421107,0.4763200416135701,0.20999665083892,0.5144303430623148,0.3810575128864099,0.491709701562399,0.4037272159825862,0.423953236847586,0.3550870183601146,0.4165771994283703,0.4764660777291431,0.4688407188928862,0.4409981585862939,0.3714221256048394,0.5778091112204605,0.3378043185749406,0.444005602311103,0.3225103262790144,0.4173001058933074,0.4839050876561649,0.5546624268278099,0.3425846004517803,0.4135764428639238,0.664432457376306,0.3777560832044784,0.3203642312313993,0.3238053473389625,0.6243882723635749,0.3462834483038663,0.3553127174590911,0.5529714816656802,0.3625668270307094,0.4401325118247183,0.4455471177513875,0.3774494817091187,0.4867440133136787,0.4581318644795705],\"xaxis\":\"x\",\"y\":[0.439898877037289,0.2803238199213896,0.4679008345210921,0.4718195627187505,0.4653278802844954,0.5457922990384892,0.4720310491885279,0.4147003342395816,0.5386486690149674,0.3761415241524868,0.4329211406473242,0.3867134123693171,0.61536431261308,0.4274020872726478,0.4552847774447461,0.2999927060981274,0.4450454788106796,0.4908787937274375,0.4886172080770984,0.4893578586829505,0.5340786157865054,0.4591407549234579,0.2921310204613237,0.3023012050644125,0.495069123498046,0.511726043098702,0.465084500998666,0.3771214225861956,0.2965062830705051,0.5041788374944127,0.5358577412186541,0.6234190564594687,0.5460900739076539,0.1944133104434503,0.3180327182965733,0.3309152241162056,0.3718074755513306,0.3222355709868215,0.3177953129419818,0.4600806815642914,0.5678428976117842,0.3363903219681988,0.3455920106968366,0.5280153363603927,0.5509678477856494,0.6972681307061295,0.7616206764375024,0.3596816845870296,0.3826995550048712,0.3683700124904728,0.3710145909474462,0.4908843315183884,0.6759611115419202,0.3639073342700609,0.3325922146699069,0.5571361352049744,0.5071423107372529,0.6008270879099518,0.4193194969992285,0.6830894876636203,0.5833937494035416,0.6110125099756385,0.3676887196731881,0.612720425460397,0.2867936496225201,0.2305229311657603,0.5751389298780695,0.7089807908097879,0.3887911641110499,0.364341065798817,0.4558445428731741,0.6258241156937853,0.5565001591276154,0.4762123660928846,0.698964674530999,0.4053193567377349,0.4294659654920859,0.5984854644556219,0.6898848077976206,0.4660241540706306,0.7567663606655737,0.6893261967890804,0.4027485507341818,0.3160726675232211,0.5450234213096578,0.5090096263864126,0.3136445217288742,0.627067543523131,0.6048009711124263,0.4114606416224942,0.3272120613307892,0.4508426987669187,0.4365369543167563,0.4351882858803488,0.4873011508793926,0.6553298521146043,0.2463467223408892,0.6540064228000888,0.5267847856283531,0.6248482602843604,0.5093680078184192,0.5787140455811215,0.8549489712660003,0.5435362673149564,0.4475171934803702,0.6096158422840292,0.3490872993183736,0.5064325040700844,0.4089374660587713,0.5103313211436651,0.4640021544269874,0.5400973133957662,0.5325942281982944,0.3439898944965244,0.6596835886270487,0.6422995761949135,0.3226757464202977,0.6382316190935432,0.4153942106557978,0.4276784934724291,0.431373254848531,0.3993017127374322,0.3933045478174321,0.3533827230257571,0.6356891853240133],\"yaxis\":\"y\",\"type\":\"scatter\"},{\"hovertemplate\":\"type=Ghost<br>bone_length=%{x}<br>has_soul=%{y}<extra></extra>\",\"legendgroup\":\"Ghost\",\"marker\":{\"color\":\"#00cc96\",\"symbol\":\"circle\"},\"mode\":\"markers\",\"name\":\"Ghost\",\"orientation\":\"v\",\"showlegend\":true,\"x\":[0.56611660205779,0.3142952759201916,0.2809417440979105,0.2507699997704333,0.5240803802397399,0.2290099048694253,0.4650939478113308,0.4563710403972941,0.3949581951173462,0.2880500976676626,0.4569351560214406,0.5342663533189846,0.268141288100927,0.4451317166643472,0.397258025900726,0.3043015261984808,0.5042364852535262,0.6096342602281953,0.424968992569728,0.3114182158972507,0.3907691600665572,0.3489914240082382,0.2370457471214508,0.5185598890791936,0.4869701692454384,0.5168138020971651,0.3751966948379099,0.1970706602286833,0.3415388791939475,0.3135062136463118,0.4717644966252061,0.2078738482492294,0.318316195910614,0.5198274000967964,0.2987971154664525,0.3179382931526625,0.4809411831883035,0.365032200646103,0.2955754351347911,0.5724939664603133,0.3733050871065359,0.4113532318763664,0.5981661180958543,0.3033905089671853,0.3262947716331351,0.4212165789711813,0.3329053684891241,0.2918155291243502,0.3215295334810629,0.2505228367580467,0.1929085720034292,0.306695276031629,0.4039945561609049,0.2247975441428196,0.4811412516657063,0.327031355299676,0.0610318174675915,0.1450707636810195,0.1009445515509307,0.3404421097879367,0.3060435284045266,0.5072903108860567,0.2088849510078684,0.2717349813738951,0.4521262527231393,0.2488544511921411,0.3998389632819645,0.4151419193496131,0.2725232044172437,0.3283443266222831,0.4082384968547247,0.3104620322934717,0.3901449022726327,0.1689085003938734,0.4753163597993992,0.3677989588298081,0.323612623781796,0.3910359826248366,0.3648165456131974,0.1841809742741317,0.2697484182873138,0.1604646938640709,0.2519320634011813,0.4044237905739608,0.3955756940744827,0.3852189472708037,0.5022290294565924,0.6223714683898102,0.5037801049216418,0.3741484261114667,0.1841718479053877,0.3906694290697766,0.2464147577793823,0.1843826774241877,0.3321342791974178,0.4057030619281113,0.4172527547569121,0.1677984879168454,0.5005233083711402,0.3540466893295677,0.1736069506984055,0.1946549336962759,0.1877805300065898,0.2172482574004319,0.3969883320489408,0.3618667061171297,0.168644469580262,0.376472952085311,0.2798745118127758,0.1651963889117372,0.3323744700041184,0.2030734301142651,0.3569985378992515,0.4404317315532128,0.5075829141004433,0.3319360874530467,0.2949429482572135],\"xaxis\":\"x\",\"y\":[0.6364378187279373,0.2275475750972251,0.1411826507100036,0.2500355193334616,0.4433583431154124,0.3296358811256823,0.1973817900366121,0.3004857328309415,0.4826926871359688,0.4082938233981211,0.4362160533497054,0.2683154656682969,0.3216226096769483,0.0433212009255868,0.1593670043648448,0.2193125275944253,0.3485782632164919,0.3482399469310024,0.0889244709798438,0.1271486012819079,0.1278768795128998,0.177172419325805,0.3042831010111143,0.5745054710533029,0.1715391821159406,0.0094016158786619,0.2434395068656316,0.4175156742278211,0.055464022849426,0.4479461449165569,0.2850665553974325,0.4840546343724389,0.2331355777366279,0.3518509542111916,0.3608534668174701,0.2936316647964402,0.4299330240052756,0.3259061874219192,0.0364572223789816,0.2910043295465112,0.495465570851785,0.2761631226500659,0.2601604796771369,0.292292888616969,0.420199005042207,0.4259933073478842,0.5149436616217669,0.23796628009425,0.4151553339725777,0.3858816614586571,0.3075337519855106,0.385886526396036,0.4995204310577366,0.4122325749081624,0.4534650235972716,0.3566989716589245,0.4970978901051466,0.2867734175724535,0.0644682675100267,0.2630632747085554,0.3076300030568211,0.2091293587758531,0.2168002949099024,0.2872897954043422,0.0999041666877589,0.0894021549771662,0.3639124829196237,0.4180526144087382,0.5940883374580593,0.1794375417543184,0.3486614628789351,0.2645622676182196,0.3170772946370197,0.2554399348818104,0.2303608171161942,0.4159298561467601,0.2576167455866692,0.3477648971789816,0.1612549398420233,0.431741682033267,0.367901682802343,0.2171466588930796,0.3006585885252317,0.4090031672887874,0.2040038550762471,0.4173443132622753,0.1216866926106156,0.2955094670285272,0.4015665096500681,0.2481432621832248,0.2270684068617264,0.3076679008815882,0.084828839477442,0.5217296004701502,0.4095255001942346,0.1611269986064954,0.2796675314611779,0.4146968185712928,0.3464742940842629,0.2437753043181011,0.6141577482798738,0.2880532532927864,0.3463062462505728,0.5232825307796921,0.1796421921347163,0.5193612257496387,0.539799547425459,0.3842929461674824,0.2920598869669624,0.2536237179172178,0.5700730854855057,0.4258022263267003,0.6899803696223118,0.1941049950833807,0.3444034758439047,0.5514705080053851,0.3006180390267751],\"yaxis\":\"y\",\"type\":\"scatter\"}],                        {\"template\":{\"data\":{\"histogram2dcontour\":[{\"type\":\"histogram2dcontour\",\"colorbar\":{\"outlinewidth\":0,\"ticks\":\"\"},\"colorscale\":[[0.0,\"#0d0887\"],[0.1111111111111111,\"#46039f\"],[0.2222222222222222,\"#7201a8\"],[0.3333333333333333,\"#9c179e\"],[0.4444444444444444,\"#bd3786\"],[0.5555555555555556,\"#d8576b\"],[0.6666666666666666,\"#ed7953\"],[0.7777777777777778,\"#fb9f3a\"],[0.8888888888888888,\"#fdca26\"],[1.0,\"#f0f921\"]]}],\"choropleth\":[{\"type\":\"choropleth\",\"colorbar\":{\"outlinewidth\":0,\"ticks\":\"\"}}],\"histogram2d\":[{\"type\":\"histogram2d\",\"colorbar\":{\"outlinewidth\":0,\"ticks\":\"\"},\"colorscale\":[[0.0,\"#0d0887\"],[0.1111111111111111,\"#46039f\"],[0.2222222222222222,\"#7201a8\"],[0.3333333333333333,\"#9c179e\"],[0.4444444444444444,\"#bd3786\"],[0.5555555555555556,\"#d8576b\"],[0.6666666666666666,\"#ed7953\"],[0.7777777777777778,\"#fb9f3a\"],[0.8888888888888888,\"#fdca26\"],[1.0,\"#f0f921\"]]}],\"heatmap\":[{\"type\":\"heatmap\",\"colorbar\":{\"outlinewidth\":0,\"ticks\":\"\"},\"colorscale\":[[0.0,\"#0d0887\"],[0.1111111111111111,\"#46039f\"],[0.2222222222222222,\"#7201a8\"],[0.3333333333333333,\"#9c179e\"],[0.4444444444444444,\"#bd3786\"],[0.5555555555555556,\"#d8576b\"],[0.6666666666666666,\"#ed7953\"],[0.7777777777777778,\"#fb9f3a\"],[0.8888888888888888,\"#fdca26\"],[1.0,\"#f0f921\"]]}],\"heatmapgl\":[{\"type\":\"heatmapgl\",\"colorbar\":{\"outlinewidth\":0,\"ticks\":\"\"},\"colorscale\":[[0.0,\"#0d0887\"],[0.1111111111111111,\"#46039f\"],[0.2222222222222222,\"#7201a8\"],[0.3333333333333333,\"#9c179e\"],[0.4444444444444444,\"#bd3786\"],[0.5555555555555556,\"#d8576b\"],[0.6666666666666666,\"#ed7953\"],[0.7777777777777778,\"#fb9f3a\"],[0.8888888888888888,\"#fdca26\"],[1.0,\"#f0f921\"]]}],\"contourcarpet\":[{\"type\":\"contourcarpet\",\"colorbar\":{\"outlinewidth\":0,\"ticks\":\"\"}}],\"contour\":[{\"type\":\"contour\",\"colorbar\":{\"outlinewidth\":0,\"ticks\":\"\"},\"colorscale\":[[0.0,\"#0d0887\"],[0.1111111111111111,\"#46039f\"],[0.2222222222222222,\"#7201a8\"],[0.3333333333333333,\"#9c179e\"],[0.4444444444444444,\"#bd3786\"],[0.5555555555555556,\"#d8576b\"],[0.6666666666666666,\"#ed7953\"],[0.7777777777777778,\"#fb9f3a\"],[0.8888888888888888,\"#fdca26\"],[1.0,\"#f0f921\"]]}],\"surface\":[{\"type\":\"surface\",\"colorbar\":{\"outlinewidth\":0,\"ticks\":\"\"},\"colorscale\":[[0.0,\"#0d0887\"],[0.1111111111111111,\"#46039f\"],[0.2222222222222222,\"#7201a8\"],[0.3333333333333333,\"#9c179e\"],[0.4444444444444444,\"#bd3786\"],[0.5555555555555556,\"#d8576b\"],[0.6666666666666666,\"#ed7953\"],[0.7777777777777778,\"#fb9f3a\"],[0.8888888888888888,\"#fdca26\"],[1.0,\"#f0f921\"]]}],\"mesh3d\":[{\"type\":\"mesh3d\",\"colorbar\":{\"outlinewidth\":0,\"ticks\":\"\"}}],\"scatter\":[{\"fillpattern\":{\"fillmode\":\"overlay\",\"size\":10,\"solidity\":0.2},\"type\":\"scatter\"}],\"parcoords\":[{\"type\":\"parcoords\",\"line\":{\"colorbar\":{\"outlinewidth\":0,\"ticks\":\"\"}}}],\"scatterpolargl\":[{\"type\":\"scatterpolargl\",\"marker\":{\"colorbar\":{\"outlinewidth\":0,\"ticks\":\"\"}}}],\"bar\":[{\"error_x\":{\"color\":\"#2a3f5f\"},\"error_y\":{\"color\":\"#2a3f5f\"},\"marker\":{\"line\":{\"color\":\"#E5ECF6\",\"width\":0.5},\"pattern\":{\"fillmode\":\"overlay\",\"size\":10,\"solidity\":0.2}},\"type\":\"bar\"}],\"scattergeo\":[{\"type\":\"scattergeo\",\"marker\":{\"colorbar\":{\"outlinewidth\":0,\"ticks\":\"\"}}}],\"scatterpolar\":[{\"type\":\"scatterpolar\",\"marker\":{\"colorbar\":{\"outlinewidth\":0,\"ticks\":\"\"}}}],\"histogram\":[{\"marker\":{\"pattern\":{\"fillmode\":\"overlay\",\"size\":10,\"solidity\":0.2}},\"type\":\"histogram\"}],\"scattergl\":[{\"type\":\"scattergl\",\"marker\":{\"colorbar\":{\"outlinewidth\":0,\"ticks\":\"\"}}}],\"scatter3d\":[{\"type\":\"scatter3d\",\"line\":{\"colorbar\":{\"outlinewidth\":0,\"ticks\":\"\"}},\"marker\":{\"colorbar\":{\"outlinewidth\":0,\"ticks\":\"\"}}}],\"scattermapbox\":[{\"type\":\"scattermapbox\",\"marker\":{\"colorbar\":{\"outlinewidth\":0,\"ticks\":\"\"}}}],\"scatterternary\":[{\"type\":\"scatterternary\",\"marker\":{\"colorbar\":{\"outlinewidth\":0,\"ticks\":\"\"}}}],\"scattercarpet\":[{\"type\":\"scattercarpet\",\"marker\":{\"colorbar\":{\"outlinewidth\":0,\"ticks\":\"\"}}}],\"carpet\":[{\"aaxis\":{\"endlinecolor\":\"#2a3f5f\",\"gridcolor\":\"white\",\"linecolor\":\"white\",\"minorgridcolor\":\"white\",\"startlinecolor\":\"#2a3f5f\"},\"baxis\":{\"endlinecolor\":\"#2a3f5f\",\"gridcolor\":\"white\",\"linecolor\":\"white\",\"minorgridcolor\":\"white\",\"startlinecolor\":\"#2a3f5f\"},\"type\":\"carpet\"}],\"table\":[{\"cells\":{\"fill\":{\"color\":\"#EBF0F8\"},\"line\":{\"color\":\"white\"}},\"header\":{\"fill\":{\"color\":\"#C8D4E3\"},\"line\":{\"color\":\"white\"}},\"type\":\"table\"}],\"barpolar\":[{\"marker\":{\"line\":{\"color\":\"#E5ECF6\",\"width\":0.5},\"pattern\":{\"fillmode\":\"overlay\",\"size\":10,\"solidity\":0.2}},\"type\":\"barpolar\"}],\"pie\":[{\"automargin\":true,\"type\":\"pie\"}]},\"layout\":{\"autotypenumbers\":\"strict\",\"colorway\":[\"#636efa\",\"#EF553B\",\"#00cc96\",\"#ab63fa\",\"#FFA15A\",\"#19d3f3\",\"#FF6692\",\"#B6E880\",\"#FF97FF\",\"#FECB52\"],\"font\":{\"color\":\"#2a3f5f\"},\"hovermode\":\"closest\",\"hoverlabel\":{\"align\":\"left\"},\"paper_bgcolor\":\"white\",\"plot_bgcolor\":\"#E5ECF6\",\"polar\":{\"bgcolor\":\"#E5ECF6\",\"angularaxis\":{\"gridcolor\":\"white\",\"linecolor\":\"white\",\"ticks\":\"\"},\"radialaxis\":{\"gridcolor\":\"white\",\"linecolor\":\"white\",\"ticks\":\"\"}},\"ternary\":{\"bgcolor\":\"#E5ECF6\",\"aaxis\":{\"gridcolor\":\"white\",\"linecolor\":\"white\",\"ticks\":\"\"},\"baxis\":{\"gridcolor\":\"white\",\"linecolor\":\"white\",\"ticks\":\"\"},\"caxis\":{\"gridcolor\":\"white\",\"linecolor\":\"white\",\"ticks\":\"\"}},\"coloraxis\":{\"colorbar\":{\"outlinewidth\":0,\"ticks\":\"\"}},\"colorscale\":{\"sequential\":[[0.0,\"#0d0887\"],[0.1111111111111111,\"#46039f\"],[0.2222222222222222,\"#7201a8\"],[0.3333333333333333,\"#9c179e\"],[0.4444444444444444,\"#bd3786\"],[0.5555555555555556,\"#d8576b\"],[0.6666666666666666,\"#ed7953\"],[0.7777777777777778,\"#fb9f3a\"],[0.8888888888888888,\"#fdca26\"],[1.0,\"#f0f921\"]],\"sequentialminus\":[[0.0,\"#0d0887\"],[0.1111111111111111,\"#46039f\"],[0.2222222222222222,\"#7201a8\"],[0.3333333333333333,\"#9c179e\"],[0.4444444444444444,\"#bd3786\"],[0.5555555555555556,\"#d8576b\"],[0.6666666666666666,\"#ed7953\"],[0.7777777777777778,\"#fb9f3a\"],[0.8888888888888888,\"#fdca26\"],[1.0,\"#f0f921\"]],\"diverging\":[[0,\"#8e0152\"],[0.1,\"#c51b7d\"],[0.2,\"#de77ae\"],[0.3,\"#f1b6da\"],[0.4,\"#fde0ef\"],[0.5,\"#f7f7f7\"],[0.6,\"#e6f5d0\"],[0.7,\"#b8e186\"],[0.8,\"#7fbc41\"],[0.9,\"#4d9221\"],[1,\"#276419\"]]},\"xaxis\":{\"gridcolor\":\"white\",\"linecolor\":\"white\",\"ticks\":\"\",\"title\":{\"standoff\":15},\"zerolinecolor\":\"white\",\"automargin\":true,\"zerolinewidth\":2},\"yaxis\":{\"gridcolor\":\"white\",\"linecolor\":\"white\",\"ticks\":\"\",\"title\":{\"standoff\":15},\"zerolinecolor\":\"white\",\"automargin\":true,\"zerolinewidth\":2},\"scene\":{\"xaxis\":{\"backgroundcolor\":\"#E5ECF6\",\"gridcolor\":\"white\",\"linecolor\":\"white\",\"showbackground\":true,\"ticks\":\"\",\"zerolinecolor\":\"white\",\"gridwidth\":2},\"yaxis\":{\"backgroundcolor\":\"#E5ECF6\",\"gridcolor\":\"white\",\"linecolor\":\"white\",\"showbackground\":true,\"ticks\":\"\",\"zerolinecolor\":\"white\",\"gridwidth\":2},\"zaxis\":{\"backgroundcolor\":\"#E5ECF6\",\"gridcolor\":\"white\",\"linecolor\":\"white\",\"showbackground\":true,\"ticks\":\"\",\"zerolinecolor\":\"white\",\"gridwidth\":2}},\"shapedefaults\":{\"line\":{\"color\":\"#2a3f5f\"}},\"annotationdefaults\":{\"arrowcolor\":\"#2a3f5f\",\"arrowhead\":0,\"arrowwidth\":1},\"geo\":{\"bgcolor\":\"white\",\"landcolor\":\"#E5ECF6\",\"subunitcolor\":\"white\",\"showland\":true,\"showlakes\":true,\"lakecolor\":\"white\"},\"title\":{\"x\":0.05},\"mapbox\":{\"style\":\"light\"}}},\"xaxis\":{\"anchor\":\"y\",\"domain\":[0.0,1.0],\"title\":{\"text\":\"bone_length\"}},\"yaxis\":{\"anchor\":\"x\",\"domain\":[0.0,1.0],\"title\":{\"text\":\"has_soul\"}},\"legend\":{\"title\":{\"text\":\"type\"},\"tracegroupgap\":0},\"margin\":{\"t\":60}},                        {\"responsive\": true}                    ).then(function(){\n",
       "                            \n",
       "var gd = document.getElementById('cfad3d7d-eb74-4f9b-8214-f6a3d51743c8');\n",
       "var x = new MutationObserver(function (mutations, observer) {{\n",
       "        var display = window.getComputedStyle(gd).display;\n",
       "        if (!display || display === 'none') {{\n",
       "            console.log([gd, 'removed!']);\n",
       "            Plotly.purge(gd);\n",
       "            observer.disconnect();\n",
       "        }}\n",
       "}});\n",
       "\n",
       "// Listen for the removal of the full notebook cells\n",
       "var notebookContainer = gd.closest('#notebook-container');\n",
       "if (notebookContainer) {{\n",
       "    x.observe(notebookContainer, {childList: true});\n",
       "}}\n",
       "\n",
       "// Listen for the clearing of the current output cell\n",
       "var outputEl = gd.closest('.output');\n",
       "if (outputEl) {{\n",
       "    x.observe(outputEl, {childList: true});\n",
       "}}\n",
       "\n",
       "                        })                };                });            </script>        </div>"
      ]
     },
     "metadata": {},
     "output_type": "display_data"
    }
   ],
   "source": [
    "px.scatter(org_df,x='bone_length',y='has_soul',color='type')"
   ]
  },
  {
   "cell_type": "code",
   "execution_count": 8,
   "id": "3e244e0f",
   "metadata": {
    "execution": {
     "iopub.execute_input": "2022-11-07T01:00:25.909856Z",
     "iopub.status.busy": "2022-11-07T01:00:25.908718Z",
     "iopub.status.idle": "2022-11-07T01:00:26.148281Z",
     "shell.execute_reply": "2022-11-07T01:00:26.146841Z"
    },
    "id": "ULJOjUpmXPT5",
    "outputId": "c8f5e862-dfdc-4bd4-8d38-5d15c8fd9942",
    "papermill": {
     "duration": 0.253079,
     "end_time": "2022-11-07T01:00:26.150991",
     "exception": false,
     "start_time": "2022-11-07T01:00:25.897912",
     "status": "completed"
    },
    "tags": []
   },
   "outputs": [
    {
     "data": {
      "text/plain": [
       "<AxesSubplot:>"
      ]
     },
     "execution_count": 8,
     "metadata": {},
     "output_type": "execute_result"
    },
    {
     "data": {
      "image/png": "[encoded data removed]",
      "text/plain": [
       "<Figure size 432x288 with 2 Axes>"
      ]
     },
     "metadata": {
      "needs_background": "light"
     },
     "output_type": "display_data"
    }
   ],
   "source": [
    "sns.heatmap(df.corr(),annot=True)"
   ]
  },
  {
   "cell_type": "markdown",
   "id": "4be6a9aa",
   "metadata": {
    "papermill": {
     "duration": 0.010004,
     "end_time": "2022-11-07T01:00:26.171394",
     "exception": false,
     "start_time": "2022-11-07T01:00:26.161390",
     "status": "completed"
    },
    "tags": []
   },
   "source": [
    "# **Creating pipelines to facilitate pre-processing**\n",
    "\n",
    "Such as: Scalling, Imputing, Encoding etc"
   ]
  },
  {
   "cell_type": "code",
   "execution_count": 9,
   "id": "e41c2c15",
   "metadata": {
    "execution": {
     "iopub.execute_input": "2022-11-07T01:00:26.194112Z",
     "iopub.status.busy": "2022-11-07T01:00:26.193142Z",
     "iopub.status.idle": "2022-11-07T01:00:26.621043Z",
     "shell.execute_reply": "2022-11-07T01:00:26.619653Z"
    },
    "id": "ZIz4VtVpXn4-",
    "outputId": "03b41092-5fae-43fc-c53e-5f3d66043124",
    "papermill": {
     "duration": 0.44186,
     "end_time": "2022-11-07T01:00:26.623523",
     "exception": false,
     "start_time": "2022-11-07T01:00:26.181663",
     "status": "completed"
    },
    "tags": []
   },
   "outputs": [
    {
     "data": {
      "text/plain": [
       "((278, 6), (278, 1), (93, 6), (93, 1))"
      ]
     },
     "execution_count": 9,
     "metadata": {},
     "output_type": "execute_result"
    }
   ],
   "source": [
    "from sklearn.pipeline import Pipeline,make_pipeline\n",
    "from sklearn.preprocessing import OneHotEncoder,StandardScaler\n",
    "from sklearn.impute import SimpleImputer\n",
    "from sklearn.model_selection import GridSearchCV,train_test_split\n",
    "from sklearn.compose import ColumnTransformer\n",
    "import numpy as np\n",
    "num_columns = df.select_dtypes(exclude=['object']).columns\n",
    "cat_columns = df.select_dtypes(include=['object']).columns\n",
    "cat_pipe = Pipeline([\n",
    "    ('one_hot_encoder',OneHotEncoder(handle_unknown='ignore',sparse=False)),\n",
    "])\n",
    "\n",
    "num_pipe = Pipeline([\n",
    "        ('standard_scaler',StandardScaler())\n",
    "])\n",
    "\n",
    "\n",
    "pre_process = ColumnTransformer([('categorical',cat_pipe,cat_columns),('numerical',num_pipe,num_columns)])\n",
    "x_train,x_test,y_train,y_test = train_test_split(x_df,y_df,random_state=777)\n",
    "\n",
    "x_train.shape,y_train.shape,x_test.shape,y_test.shape"
   ]
  },
  {
   "cell_type": "code",
   "execution_count": 10,
   "id": "66fd638d",
   "metadata": {
    "execution": {
     "iopub.execute_input": "2022-11-07T01:00:26.645130Z",
     "iopub.status.busy": "2022-11-07T01:00:26.644682Z",
     "iopub.status.idle": "2022-11-07T01:00:26.756138Z",
     "shell.execute_reply": "2022-11-07T01:00:26.755021Z"
    },
    "id": "2AYsKNagaejo",
    "outputId": "2e62fd2e-a2e4-4c29-8f5c-4fe010059150",
    "papermill": {
     "duration": 0.125208,
     "end_time": "2022-11-07T01:00:26.758737",
     "exception": false,
     "start_time": "2022-11-07T01:00:26.633529",
     "status": "completed"
    },
    "tags": []
   },
   "outputs": [],
   "source": [
    "from sklearn.ensemble import RandomForestClassifier\n",
    "from sklearn.neural_network import MLPClassifier\n",
    "from sklearn.svm import SVC\n",
    "from sklearn.neighbors import KNeighborsClassifier\n",
    "from sklearn.tree import DecisionTreeClassifier\n",
    "\n",
    "svc = make_pipeline(pre_process,SVC())\n",
    "mlp = make_pipeline(pre_process,MLPClassifier())\n",
    "rf = make_pipeline(pre_process,RandomForestClassifier())\n",
    "knn = make_pipeline(pre_process,KNeighborsClassifier())\n",
    "dtree = make_pipeline(pre_process,DecisionTreeClassifier())\n",
    "\n",
    "\n"
   ]
  },
  {
   "cell_type": "code",
   "execution_count": 11,
   "id": "5fa611a9",
   "metadata": {
    "execution": {
     "iopub.execute_input": "2022-11-07T01:00:26.780975Z",
     "iopub.status.busy": "2022-11-07T01:00:26.780559Z",
     "iopub.status.idle": "2022-11-07T01:00:26.880109Z",
     "shell.execute_reply": "2022-11-07T01:00:26.878814Z"
    },
    "id": "gZNiPbmMbyz4",
    "outputId": "000db9e4-362c-4e23-edfa-068cb15ec9cf",
    "papermill": {
     "duration": 0.113667,
     "end_time": "2022-11-07T01:00:26.882743",
     "exception": false,
     "start_time": "2022-11-07T01:00:26.769076",
     "status": "completed"
    },
    "tags": []
   },
   "outputs": [
    {
     "data": {
      "text/plain": [
       "(Pipeline(steps=[('columntransformer',\n",
       "                  ColumnTransformer(transformers=[('categorical',\n",
       "                                                   Pipeline(steps=[('one_hot_encoder',\n",
       "                                                                    OneHotEncoder(handle_unknown='ignore',\n",
       "                                                                                  sparse=False))]),\n",
       "                                                   Index(['color'], dtype='object')),\n",
       "                                                  ('numerical',\n",
       "                                                   Pipeline(steps=[('standard_scaler',\n",
       "                                                                    StandardScaler())]),\n",
       "                                                   Index(['bone_length', 'rotting_flesh', 'hair_length', 'has_soul'], dtype='object'))])),\n",
       "                 ('svc', SVC())]),\n",
       " Pipeline(steps=[('columntransformer',\n",
       "                  ColumnTransformer(transformers=[('categorical',\n",
       "                                                   Pipeline(steps=[('one_hot_encoder',\n",
       "                                                                    OneHotEncoder(handle_unknown='ignore',\n",
       "                                                                                  sparse=False))]),\n",
       "                                                   Index(['color'], dtype='object')),\n",
       "                                                  ('numerical',\n",
       "                                                   Pipeline(steps=[('standard_scaler',\n",
       "                                                                    StandardScaler())]),\n",
       "                                                   Index(['bone_length', 'rotting_flesh', 'hair_length', 'has_soul'], dtype='object'))])),\n",
       "                 ('mlpclassifier', MLPClassifier())]),\n",
       " Pipeline(steps=[('columntransformer',\n",
       "                  ColumnTransformer(transformers=[('categorical',\n",
       "                                                   Pipeline(steps=[('one_hot_encoder',\n",
       "                                                                    OneHotEncoder(handle_unknown='ignore',\n",
       "                                                                                  sparse=False))]),\n",
       "                                                   Index(['color'], dtype='object')),\n",
       "                                                  ('numerical',\n",
       "                                                   Pipeline(steps=[('standard_scaler',\n",
       "                                                                    StandardScaler())]),\n",
       "                                                   Index(['bone_length', 'rotting_flesh', 'hair_length', 'has_soul'], dtype='object'))])),\n",
       "                 ('randomforestclassifier', RandomForestClassifier())]),\n",
       " Pipeline(steps=[('columntransformer',\n",
       "                  ColumnTransformer(transformers=[('categorical',\n",
       "                                                   Pipeline(steps=[('one_hot_encoder',\n",
       "                                                                    OneHotEncoder(handle_unknown='ignore',\n",
       "                                                                                  sparse=False))]),\n",
       "                                                   Index(['color'], dtype='object')),\n",
       "                                                  ('numerical',\n",
       "                                                   Pipeline(steps=[('standard_scaler',\n",
       "                                                                    StandardScaler())]),\n",
       "                                                   Index(['bone_length', 'rotting_flesh', 'hair_length', 'has_soul'], dtype='object'))])),\n",
       "                 ('kneighborsclassifier', KNeighborsClassifier())]),\n",
       " Pipeline(steps=[('columntransformer',\n",
       "                  ColumnTransformer(transformers=[('categorical',\n",
       "                                                   Pipeline(steps=[('one_hot_encoder',\n",
       "                                                                    OneHotEncoder(handle_unknown='ignore',\n",
       "                                                                                  sparse=False))]),\n",
       "                                                   Index(['color'], dtype='object')),\n",
       "                                                  ('numerical',\n",
       "                                                   Pipeline(steps=[('standard_scaler',\n",
       "                                                                    StandardScaler())]),\n",
       "                                                   Index(['bone_length', 'rotting_flesh', 'hair_length', 'has_soul'], dtype='object'))])),\n",
       "                 ('decisiontreeclassifier', DecisionTreeClassifier())]))"
      ]
     },
     "execution_count": 11,
     "metadata": {},
     "output_type": "execute_result"
    }
   ],
   "source": [
    "svc,mlp,rf,knn,dtree"
   ]
  },
  {
   "cell_type": "markdown",
   "id": "1704af2b",
   "metadata": {
    "papermill": {
     "duration": 0.009872,
     "end_time": "2022-11-07T01:00:26.902970",
     "exception": false,
     "start_time": "2022-11-07T01:00:26.893098",
     "status": "completed"
    },
    "tags": []
   },
   "source": [
    "# Tuning NeuralNetwork parameters"
   ]
  },
  {
   "cell_type": "code",
   "execution_count": 12,
   "id": "99eb4541",
   "metadata": {
    "execution": {
     "iopub.execute_input": "2022-11-07T01:00:26.925041Z",
     "iopub.status.busy": "2022-11-07T01:00:26.924620Z",
     "iopub.status.idle": "2022-11-07T01:01:25.098480Z",
     "shell.execute_reply": "2022-11-07T01:01:25.096894Z"
    },
    "id": "TWFoOpMkb6D0",
    "outputId": "07c6043f-a146-447f-ab2b-e5ab8e3a67f1",
    "papermill": {
     "duration": 58.19657,
     "end_time": "2022-11-07T01:01:25.109792",
     "exception": false,
     "start_time": "2022-11-07T01:00:26.913222",
     "status": "completed"
    },
    "tags": []
   },
   "outputs": [
    {
     "data": {
      "text/plain": [
       "GridSearchCV(estimator=Pipeline(steps=[('columntransformer',\n",
       "                                        ColumnTransformer(transformers=[('categorical',\n",
       "                                                                         Pipeline(steps=[('one_hot_encoder',\n",
       "                                                                                          OneHotEncoder(handle_unknown='ignore',\n",
       "                                                                                                        sparse=False))]),\n",
       "                                                                         Index(['color'], dtype='object')),\n",
       "                                                                        ('numerical',\n",
       "                                                                         Pipeline(steps=[('standard_scaler',\n",
       "                                                                                          StandardScaler())]),\n",
       "                                                                         Index(['bone_length', 'rotting_flesh', 'hair_length', 'has_soul'], dtype='object'))])),\n",
       "                                       ('mlpclassifier', MLPClassifier())]),\n",
       "             n_jobs=-1,\n",
       "             param_grid={'mlpclassifier__activation': ['logistic', 'relu',\n",
       "                                                       'tanh'],\n",
       "                         'mlpclassifier__hidden_layer_sizes': [(5, 5), (5,),\n",
       "                                                               (5, 5, 5)],\n",
       "                         'mlpclassifier__max_iter': [10000],\n",
       "                         'mlpclassifier__solver': ['sgd', 'lbfgs', 'adam'],\n",
       "                         'mlpclassifier__verbose': [0]})"
      ]
     },
     "execution_count": 12,
     "metadata": {},
     "output_type": "execute_result"
    }
   ],
   "source": [
    "params = {'mlpclassifier__hidden_layer_sizes':[(5,5),(5,),(5,5,5)],\n",
    "          'mlpclassifier__activation':['logistic','relu','tanh'],\n",
    "          'mlpclassifier__solver':['sgd','lbfgs','adam'],'mlpclassifier__verbose':[0],'mlpclassifier__max_iter':[10000]}\n",
    "mlp_grid = GridSearchCV(estimator=mlp,param_grid=params,n_jobs=-1)\n",
    "mlp_grid.fit(x_train,y_train.values.ravel())"
   ]
  },
  {
   "cell_type": "code",
   "execution_count": 13,
   "id": "8647eea0",
   "metadata": {
    "execution": {
     "iopub.execute_input": "2022-11-07T01:01:25.131580Z",
     "iopub.status.busy": "2022-11-07T01:01:25.131201Z",
     "iopub.status.idle": "2022-11-07T01:01:25.138814Z",
     "shell.execute_reply": "2022-11-07T01:01:25.137756Z"
    },
    "id": "u2uBfogoXtlE",
    "outputId": "b90b387a-6e96-4e23-9de4-2dbb4878dc98",
    "papermill": {
     "duration": 0.020904,
     "end_time": "2022-11-07T01:01:25.140660",
     "exception": false,
     "start_time": "2022-11-07T01:01:25.119756",
     "status": "completed"
    },
    "tags": []
   },
   "outputs": [
    {
     "data": {
      "text/plain": [
       "0.7482467532467532"
      ]
     },
     "execution_count": 13,
     "metadata": {},
     "output_type": "execute_result"
    }
   ],
   "source": [
    "mlp_grid.best_score_"
   ]
  },
  {
   "cell_type": "markdown",
   "id": "142b83c3",
   "metadata": {
    "papermill": {
     "duration": 0.010574,
     "end_time": "2022-11-07T01:01:25.161383",
     "exception": false,
     "start_time": "2022-11-07T01:01:25.150809",
     "status": "completed"
    },
    "tags": []
   },
   "source": [
    "# Tuning RandomForestClassifier parameters"
   ]
  },
  {
   "cell_type": "code",
   "execution_count": 14,
   "id": "f7a6f6ba",
   "metadata": {
    "execution": {
     "iopub.execute_input": "2022-11-07T01:01:25.185641Z",
     "iopub.status.busy": "2022-11-07T01:01:25.185242Z",
     "iopub.status.idle": "2022-11-07T01:02:18.555067Z",
     "shell.execute_reply": "2022-11-07T01:02:18.553340Z"
    },
    "id": "YR-CxbQ0V6B7",
    "outputId": "1518b04c-9705-4348-a6b7-ce4f78ace57b",
    "papermill": {
     "duration": 53.391024,
     "end_time": "2022-11-07T01:02:18.563626",
     "exception": false,
     "start_time": "2022-11-07T01:01:25.172602",
     "status": "completed"
    },
    "tags": []
   },
   "outputs": [
    {
     "data": {
      "text/plain": [
       "0.7267532467532467"
      ]
     },
     "execution_count": 14,
     "metadata": {},
     "output_type": "execute_result"
    }
   ],
   "source": [
    "param_grid = { \n",
    "    'randomforestclassifier__n_estimators': [200, 500],\n",
    "    'randomforestclassifier__max_features': ['auto', 'sqrt', 'log2'],\n",
    "    'randomforestclassifier__max_depth' : [4,5,6,7,8],\n",
    "    'randomforestclassifier__criterion' :['gini', 'entropy']\n",
    "}\n",
    "rf_grid = GridSearchCV(estimator=rf,param_grid=param_grid,n_jobs=-1)\n",
    "rf_grid.fit(x_train,y_train.values.ravel())\n",
    "rf_grid.best_score_"
   ]
  },
  {
   "cell_type": "code",
   "execution_count": 15,
   "id": "6546c315",
   "metadata": {
    "execution": {
     "iopub.execute_input": "2022-11-07T01:02:18.585295Z",
     "iopub.status.busy": "2022-11-07T01:02:18.584931Z",
     "iopub.status.idle": "2022-11-07T01:02:18.592478Z",
     "shell.execute_reply": "2022-11-07T01:02:18.591068Z"
    },
    "id": "rFJUv9b8XsP5",
    "outputId": "1aa6dd7a-5f95-4b2c-91e7-2af1fd7b60b5",
    "papermill": {
     "duration": 0.021653,
     "end_time": "2022-11-07T01:02:18.595232",
     "exception": false,
     "start_time": "2022-11-07T01:02:18.573579",
     "status": "completed"
    },
    "tags": []
   },
   "outputs": [
    {
     "data": {
      "text/plain": [
       "0.7267532467532467"
      ]
     },
     "execution_count": 15,
     "metadata": {},
     "output_type": "execute_result"
    }
   ],
   "source": [
    "rf_grid.best_score_"
   ]
  },
  {
   "cell_type": "markdown",
   "id": "e17726a8",
   "metadata": {
    "papermill": {
     "duration": 0.011003,
     "end_time": "2022-11-07T01:02:18.617001",
     "exception": false,
     "start_time": "2022-11-07T01:02:18.605998",
     "status": "completed"
    },
    "tags": []
   },
   "source": [
    "# Tuning KNN Parameters"
   ]
  },
  {
   "cell_type": "code",
   "execution_count": 16,
   "id": "fa6e8b50",
   "metadata": {
    "execution": {
     "iopub.execute_input": "2022-11-07T01:02:18.640028Z",
     "iopub.status.busy": "2022-11-07T01:02:18.639654Z",
     "iopub.status.idle": "2022-11-07T01:02:18.826774Z",
     "shell.execute_reply": "2022-11-07T01:02:18.825703Z"
    },
    "id": "4o76LE5ZYqCn",
    "outputId": "19ba11c8-08dd-4e37-dcab-ccb9ba58a110",
    "papermill": {
     "duration": 0.20155,
     "end_time": "2022-11-07T01:02:18.829232",
     "exception": false,
     "start_time": "2022-11-07T01:02:18.627682",
     "status": "completed"
    },
    "tags": []
   },
   "outputs": [
    {
     "data": {
      "text/plain": [
       "0.7087662337662339"
      ]
     },
     "execution_count": 16,
     "metadata": {},
     "output_type": "execute_result"
    }
   ],
   "source": [
    "param_grid = {'kneighborsclassifier__n_neighbors': [5, 25], 'kneighborsclassifier__weights': ['uniform', 'distance']}\n",
    "knn_grid = GridSearchCV(estimator=knn,param_grid=param_grid,n_jobs=-1)\n",
    "knn_grid.fit(x_train,y_train.values.ravel())\n",
    "knn_grid.best_score_"
   ]
  },
  {
   "cell_type": "markdown",
   "id": "6fb276df",
   "metadata": {
    "papermill": {
     "duration": 0.010347,
     "end_time": "2022-11-07T01:02:18.850193",
     "exception": false,
     "start_time": "2022-11-07T01:02:18.839846",
     "status": "completed"
    },
    "tags": []
   },
   "source": [
    "# Tuning SVC Parameters"
   ]
  },
  {
   "cell_type": "code",
   "execution_count": 17,
   "id": "2c06d416",
   "metadata": {
    "execution": {
     "iopub.execute_input": "2022-11-07T01:02:18.873796Z",
     "iopub.status.busy": "2022-11-07T01:02:18.873054Z",
     "iopub.status.idle": "2022-11-07T01:02:21.388234Z",
     "shell.execute_reply": "2022-11-07T01:02:21.387091Z"
    },
    "id": "kNF7BeN1WrBv",
    "outputId": "20ddda52-9665-4e8c-b10a-953da80f0f5b",
    "papermill": {
     "duration": 2.52944,
     "end_time": "2022-11-07T01:02:21.390302",
     "exception": false,
     "start_time": "2022-11-07T01:02:18.860862",
     "status": "completed"
    },
    "tags": []
   },
   "outputs": [
    {
     "data": {
      "text/plain": [
       "0.759025974025974"
      ]
     },
     "execution_count": 17,
     "metadata": {},
     "output_type": "execute_result"
    }
   ],
   "source": [
    "param_grid = {'svc__C':[1,10,100,1000],'svc__gamma':[1,0.1,0.001,0.0001], 'svc__kernel':['linear','rbf']}\n",
    "svc_grid = GridSearchCV(estimator=svc,param_grid=param_grid,n_jobs=-1)\n",
    "svc_grid.fit(x_train,y_train.values.ravel())\n",
    "svc_grid.best_score_"
   ]
  },
  {
   "cell_type": "markdown",
   "id": "1d3826f6",
   "metadata": {
    "papermill": {
     "duration": 0.010154,
     "end_time": "2022-11-07T01:02:21.411238",
     "exception": false,
     "start_time": "2022-11-07T01:02:21.401084",
     "status": "completed"
    },
    "tags": []
   },
   "source": [
    "# Visualizing a Confusion Matrix for all the models"
   ]
  },
  {
   "cell_type": "code",
   "execution_count": 18,
   "id": "f9e8b89a",
   "metadata": {
    "execution": {
     "iopub.execute_input": "2022-11-07T01:02:21.434615Z",
     "iopub.status.busy": "2022-11-07T01:02:21.433890Z",
     "iopub.status.idle": "2022-11-07T01:02:21.705442Z",
     "shell.execute_reply": "2022-11-07T01:02:21.704527Z"
    },
    "id": "N0XFWjGvXzd1",
    "outputId": "0ff1a62c-04a5-4123-c247-ee13ff5120f8",
    "papermill": {
     "duration": 0.285814,
     "end_time": "2022-11-07T01:02:21.707722",
     "exception": false,
     "start_time": "2022-11-07T01:02:21.421908",
     "status": "completed"
    },
    "tags": []
   },
   "outputs": [
    {
     "name": "stderr",
     "output_type": "stream",
     "text": [
      "/opt/conda/lib/python3.7/site-packages/yellowbrick/classifier/base.py:234: YellowbrickWarning:\n",
      "\n",
      "could not determine class_counts_ from previously fitted classifier\n",
      "\n"
     ]
    },
    {
     "data": {
      "text/plain": [
       "0.6881720430107527"
      ]
     },
     "execution_count": 18,
     "metadata": {},
     "output_type": "execute_result"
    },
    {
     "data": {
      "image/png": "[encoded data removed]",
      "text/plain": [
       "<Figure size 576x396 with 1 Axes>"
      ]
     },
     "metadata": {},
     "output_type": "display_data"
    }
   ],
   "source": [
    "from yellowbrick.classifier import ConfusionMatrix\n",
    "\n",
    "cm = ConfusionMatrix(mlp_grid)\n",
    "cm.score(x_test,y_test)"
   ]
  },
  {
   "cell_type": "code",
   "execution_count": 19,
   "id": "d953f5f4",
   "metadata": {
    "execution": {
     "iopub.execute_input": "2022-11-07T01:02:21.739056Z",
     "iopub.status.busy": "2022-11-07T01:02:21.738156Z",
     "iopub.status.idle": "2022-11-07T01:02:21.885600Z",
     "shell.execute_reply": "2022-11-07T01:02:21.884782Z"
    },
    "id": "W0h2efDDXGHJ",
    "outputId": "f74dbdd7-9716-43e2-d372-bba2234cf764",
    "papermill": {
     "duration": 0.165258,
     "end_time": "2022-11-07T01:02:21.887710",
     "exception": false,
     "start_time": "2022-11-07T01:02:21.722452",
     "status": "completed"
    },
    "tags": []
   },
   "outputs": [
    {
     "name": "stderr",
     "output_type": "stream",
     "text": [
      "/opt/conda/lib/python3.7/site-packages/yellowbrick/classifier/base.py:234: YellowbrickWarning:\n",
      "\n",
      "could not determine class_counts_ from previously fitted classifier\n",
      "\n"
     ]
    },
    {
     "data": {
      "text/plain": [
       "0.7419354838709677"
      ]
     },
     "execution_count": 19,
     "metadata": {},
     "output_type": "execute_result"
    },
    {
     "data": {
      "image/png": "[encoded data removed]",
      "text/plain": [
       "<Figure size 576x396 with 1 Axes>"
      ]
     },
     "metadata": {},
     "output_type": "display_data"
    }
   ],
   "source": [
    "from yellowbrick.classifier import ConfusionMatrix\n",
    "\n",
    "cm = ConfusionMatrix(svc_grid)\n",
    "cm.score(x_test,y_test)"
   ]
  },
  {
   "cell_type": "code",
   "execution_count": 20,
   "id": "d15f076e",
   "metadata": {
    "execution": {
     "iopub.execute_input": "2022-11-07T01:02:21.920301Z",
     "iopub.status.busy": "2022-11-07T01:02:21.919429Z",
     "iopub.status.idle": "2022-11-07T01:02:22.099157Z",
     "shell.execute_reply": "2022-11-07T01:02:22.098387Z"
    },
    "id": "NUXtIUzqYPqO",
    "outputId": "e94c54f9-0d99-485e-deda-b39cc4a54427",
    "papermill": {
     "duration": 0.19859,
     "end_time": "2022-11-07T01:02:22.101248",
     "exception": false,
     "start_time": "2022-11-07T01:02:21.902658",
     "status": "completed"
    },
    "tags": []
   },
   "outputs": [
    {
     "name": "stderr",
     "output_type": "stream",
     "text": [
      "/opt/conda/lib/python3.7/site-packages/yellowbrick/classifier/base.py:234: YellowbrickWarning:\n",
      "\n",
      "could not determine class_counts_ from previously fitted classifier\n",
      "\n"
     ]
    },
    {
     "data": {
      "text/plain": [
       "0.6774193548387096"
      ]
     },
     "execution_count": 20,
     "metadata": {},
     "output_type": "execute_result"
    },
    {
     "data": {
      "image/png": "[encoded data removed]",
      "text/plain": [
       "<Figure size 576x396 with 1 Axes>"
      ]
     },
     "metadata": {},
     "output_type": "display_data"
    }
   ],
   "source": [
    "from yellowbrick.classifier import ConfusionMatrix\n",
    "\n",
    "cm = ConfusionMatrix(rf_grid)\n",
    "cm.score(x_test,y_test)"
   ]
  },
  {
   "cell_type": "code",
   "execution_count": 21,
   "id": "cde0d7ba",
   "metadata": {
    "execution": {
     "iopub.execute_input": "2022-11-07T01:02:22.135430Z",
     "iopub.status.busy": "2022-11-07T01:02:22.134684Z",
     "iopub.status.idle": "2022-11-07T01:02:22.276168Z",
     "shell.execute_reply": "2022-11-07T01:02:22.275406Z"
    },
    "id": "_Hpdy-r3Y9OL",
    "outputId": "763e6736-fc39-4ada-bff0-46a64a45a1d9",
    "papermill": {
     "duration": 0.161422,
     "end_time": "2022-11-07T01:02:22.278259",
     "exception": false,
     "start_time": "2022-11-07T01:02:22.116837",
     "status": "completed"
    },
    "tags": []
   },
   "outputs": [
    {
     "name": "stderr",
     "output_type": "stream",
     "text": [
      "/opt/conda/lib/python3.7/site-packages/yellowbrick/classifier/base.py:234: YellowbrickWarning:\n",
      "\n",
      "could not determine class_counts_ from previously fitted classifier\n",
      "\n"
     ]
    },
    {
     "data": {
      "text/plain": [
       "0.7096774193548387"
      ]
     },
     "execution_count": 21,
     "metadata": {},
     "output_type": "execute_result"
    },
    {
     "data": {
      "image/png": "[encoded data removed]",
      "text/plain": [
       "<Figure size 576x396 with 1 Axes>"
      ]
     },
     "metadata": {},
     "output_type": "display_data"
    }
   ],
   "source": [
    "from yellowbrick.classifier import ConfusionMatrix\n",
    "\n",
    "cm = ConfusionMatrix(knn_grid)\n",
    "cm.score(x_test,y_test)"
   ]
  },
  {
   "cell_type": "markdown",
   "id": "135d94ea",
   "metadata": {
    "papermill": {
     "duration": 0.015885,
     "end_time": "2022-11-07T01:02:22.310323",
     "exception": false,
     "start_time": "2022-11-07T01:02:22.294438",
     "status": "completed"
    },
    "tags": []
   },
   "source": [
    "# Checking the classification_report with the 2 best models"
   ]
  },
  {
   "cell_type": "code",
   "execution_count": 22,
   "id": "f5193d86",
   "metadata": {
    "execution": {
     "iopub.execute_input": "2022-11-07T01:02:22.344714Z",
     "iopub.status.busy": "2022-11-07T01:02:22.344012Z",
     "iopub.status.idle": "2022-11-07T01:02:22.360879Z",
     "shell.execute_reply": "2022-11-07T01:02:22.360255Z"
    },
    "id": "F5Rf7MJAb65X",
    "outputId": "b6de46d4-0a50-48f3-d778-31684346ce00",
    "papermill": {
     "duration": 0.036955,
     "end_time": "2022-11-07T01:02:22.363216",
     "exception": false,
     "start_time": "2022-11-07T01:02:22.326261",
     "status": "completed"
    },
    "tags": []
   },
   "outputs": [
    {
     "name": "stdout",
     "output_type": "stream",
     "text": [
      "              precision    recall  f1-score   support\n",
      "\n",
      "       Ghost       0.81      0.86      0.83        29\n",
      "       Ghoul       0.75      0.80      0.77        30\n",
      "      Goblin       0.67      0.59      0.62        34\n",
      "\n",
      "    accuracy                           0.74        93\n",
      "   macro avg       0.74      0.75      0.74        93\n",
      "weighted avg       0.74      0.74      0.74        93\n",
      "\n"
     ]
    }
   ],
   "source": [
    "from sklearn.metrics import classification_report\n",
    "y_pred = svc_grid.predict(x_test)\n",
    "print(classification_report(y_test,y_pred))"
   ]
  },
  {
   "cell_type": "code",
   "execution_count": 23,
   "id": "cf1b9bc0",
   "metadata": {
    "execution": {
     "iopub.execute_input": "2022-11-07T01:02:22.388334Z",
     "iopub.status.busy": "2022-11-07T01:02:22.388022Z",
     "iopub.status.idle": "2022-11-07T01:02:22.404896Z",
     "shell.execute_reply": "2022-11-07T01:02:22.402751Z"
    },
    "id": "_RdsRzayccTO",
    "outputId": "294cdf8b-a5a7-400b-8144-83198aa7de4f",
    "papermill": {
     "duration": 0.03229,
     "end_time": "2022-11-07T01:02:22.407392",
     "exception": false,
     "start_time": "2022-11-07T01:02:22.375102",
     "status": "completed"
    },
    "tags": []
   },
   "outputs": [
    {
     "name": "stdout",
     "output_type": "stream",
     "text": [
      "              precision    recall  f1-score   support\n",
      "\n",
      "       Ghost       0.84      0.90      0.87        29\n",
      "       Ghoul       0.62      0.77      0.69        30\n",
      "      Goblin       0.60      0.44      0.51        34\n",
      "\n",
      "    accuracy                           0.69        93\n",
      "   macro avg       0.69      0.70      0.69        93\n",
      "weighted avg       0.68      0.69      0.68        93\n",
      "\n"
     ]
    }
   ],
   "source": [
    "from sklearn.metrics import classification_report\n",
    "y_pred = mlp_grid.predict(x_test)\n",
    "print(classification_report(y_test,y_pred))"
   ]
  }
 ],
 "metadata": {
  "kernelspec": {
   "display_name": "Python 3",
   "language": "python",
   "name": "python3"
  },
  "language_info": {
   "codemirror_mode": {
    "name": "ipython",
    "version": 3
   },
   "file_extension": ".py",
   "mimetype": "text/x-python",
   "name": "python",
   "nbconvert_exporter": "python",
   "pygments_lexer": "ipython3",
   "version": "3.7.12"
  },
  "papermill": {
   "default_parameters": {},
   "duration": 200.653947,
   "end_time": "2022-11-07T01:03:33.608700",
   "environment_variables": {},
   "exception": null,
   "input_path": "__notebook__.ipynb",
   "output_path": "__notebook__.ipynb",
   "parameters": {},
   "start_time": "2022-11-07T01:00:12.954753",
   "version": "2.3.4"
  }
 },
 "nbformat": 4,
 "nbformat_minor": 5
}
